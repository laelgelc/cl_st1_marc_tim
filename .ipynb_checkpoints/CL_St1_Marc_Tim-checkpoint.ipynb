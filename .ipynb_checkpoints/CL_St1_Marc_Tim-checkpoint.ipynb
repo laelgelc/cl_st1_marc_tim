{
 "cells": [
  {
   "cell_type": "markdown",
   "id": "810d9f10-ec19-4b09-8f90-e983e460b319",
   "metadata": {
    "jp-MarkdownHeadingCollapsed": true
   },
   "source": [
    "<center>\n",
    "<img src=\"https://laelgelcpublic.s3.sa-east-1.amazonaws.com/lael_50_years_narrow_white.png.no_years.400px_96dpi.png\" width=\"300\" alt=\"LAEL 50 years logo\">\n",
    "<h3>APPLIED LINGUISTICS GRADUATE PROGRAMME (LAEL)</h3>\n",
    "</center>\n",
    "<hr>"
   ]
  },
  {
   "cell_type": "markdown",
   "id": "888c2c96-2fc3-4a1a-995b-c388036a2a15",
   "metadata": {},
   "source": [
    "# CEPRIL Research Bazaar - Introduction to Word Embeddings: A Hands-on Python Workshop\n",
    "Professors Marc Kupietz and Tim Feldmueller - Leibniz-Institut für Deutsche Sprache (IDS), Mannheim, Germany"
   ]
  },
  {
   "cell_type": "markdown",
   "id": "4507dc70-0cee-4015-bd06-f3b1a5b95eb5",
   "metadata": {},
   "source": [
    "## Resources"
   ]
  },
  {
   "cell_type": "markdown",
   "id": "ff889984-5713-43bb-9d59-6b81e6d50e49",
   "metadata": {},
   "source": [
    "- [Scripts Folder](https://drive.google.com/drive/folders/18gHs1F6nugJY03uYb_OjiZQEUNBPvxV-?usp=drive_link) or, alternatively, [here](https://shorturl.at/MSBha)\n",
    "- [Data Folder](https://drive.google.com/drive/folders/1ecHmbXmpaSpd55Nc9-dUyUS_nTcMdhmP) or, alternatively, [here](https://shorturl.at/iEw4i)"
   ]
  },
  {
   "cell_type": "code",
   "execution_count": null,
   "id": "33dbdbe9-4431-4e7e-a924-9ada858dce72",
   "metadata": {},
   "outputs": [],
   "source": []
  }
 ],
 "metadata": {
  "kernelspec": {
   "display_name": "Python 3 (ipykernel)",
   "language": "python",
   "name": "python3"
  },
  "language_info": {
   "codemirror_mode": {
    "name": "ipython",
    "version": 3
   },
   "file_extension": ".py",
   "mimetype": "text/x-python",
   "name": "python",
   "nbconvert_exporter": "python",
   "pygments_lexer": "ipython3",
   "version": "3.12.3"
  }
 },
 "nbformat": 4,
 "nbformat_minor": 5
}
