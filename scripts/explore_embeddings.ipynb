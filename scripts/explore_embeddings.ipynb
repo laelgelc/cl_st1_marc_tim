{
 "cells": [
  {
   "cell_type": "code",
   "execution_count": null,
   "id": "828efad7",
   "metadata": {},
   "outputs": [],
   "source": [
    "# In this part of the course, we explore pretrained word embedding models\n",
    "# We will start in the Browser – please go to\n",
    "# https://projector.tensorflow.org"
   ]
  },
  {
   "cell_type": "code",
   "execution_count": null,
   "id": "10e9541c",
   "metadata": {},
   "outputs": [],
   "source": [
    "# The Gensim library provides a convenient way to load and use different models and corpora\n",
    "# Here you find more information: https://radimrehurek.com/gensim/downloader.html\n",
    "# And here a jupyter notebook with examples: https://radimrehurek.com/gensim/auto_examples/howtos/run_downloader_api.html\n",
    "\n",
    "import gensim.downloader as api\n",
    "import json\n",
    "\n",
    "info = api.info()\n",
    "print(json.dumps(info[\"models\"], indent=4))"
   ]
  },
  {
   "cell_type": "code",
   "execution_count": null,
   "id": "366f99ef",
   "metadata": {},
   "outputs": [],
   "source": [
    "# We will download and use a small wikipedia model\n",
    "model = api.load(\"glove-wiki-gigaword-50\")"
   ]
  },
  {
   "cell_type": "code",
   "execution_count": null,
   "id": "1bb53636",
   "metadata": {},
   "outputs": [],
   "source": [
    "# Let's ask for nearest neighbors of a word\n",
    "\n",
    "model.most_similar(\"linguistics\")"
   ]
  },
  {
   "cell_type": "code",
   "execution_count": null,
   "id": "0d7d0140",
   "metadata": {},
   "outputs": [],
   "source": [
    "# As we can see, the closest words (cosine similarity) are semantically similar, even potential synonyms\n",
    "model.most_similar(\"attack\")"
   ]
  },
  {
   "cell_type": "code",
   "execution_count": null,
   "id": "13d47509",
   "metadata": {},
   "outputs": [],
   "source": [
    "# The most_similar function also has a parameter called topn, which allows us to specify how many words we want to retrieve\n",
    "model.most_similar(\"transphobia\", topn=25)"
   ]
  },
  {
   "cell_type": "code",
   "execution_count": null,
   "id": "d68c32d3",
   "metadata": {},
   "outputs": [],
   "source": [
    "# Now take some time to explore the model and look at word neighbourhoods that might be interesting for your research\n",
    "\n",
    "# ..."
   ]
  },
  {
   "cell_type": "code",
   "execution_count": null,
   "id": "de2107b2",
   "metadata": {},
   "outputs": [],
   "source": [
    "# We can also do math with words\n",
    "# For example, we can find the words that are most similar to ...\n",
    "# king - man + woman\n",
    "model.most_similar(positive=[\"king\", \"woman\"], negative=[\"man\"])"
   ]
  },
  {
   "cell_type": "code",
   "execution_count": null,
   "id": "001c3f21",
   "metadata": {},
   "outputs": [],
   "source": [
    "# Or we do Paris - France + Germany\n",
    "model.most_similar(positive=[\"paris\", \"germany\"], negative=[\"france\"])"
   ]
  },
  {
   "cell_type": "code",
   "execution_count": null,
   "id": "e69d5eee",
   "metadata": {},
   "outputs": [],
   "source": [
    "# But as you can see, the results are not always what we expect\n",
    "model.most_similar(positive=[\"paris\", \"brazil\"], negative=[\"france\"])"
   ]
  },
  {
   "cell_type": "code",
   "execution_count": null,
   "id": "56fa6e5a",
   "metadata": {},
   "outputs": [],
   "source": [
    "# There is a famous paper \"Man is to Computer Programmer as Woman is to Homemaker?\" (Bolukbasi et al. 2016)\n",
    "# Not quite the case here, but let's see what we get\n",
    "\n",
    "model.most_similar(positive=[\"programmer\", \"woman\"], negative=[\"man\"])"
   ]
  },
  {
   "cell_type": "code",
   "execution_count": null,
   "id": "f5cd6f0f",
   "metadata": {},
   "outputs": [],
   "source": [
    "# Woman is to Nurse as Man is to Doctor\n",
    "model.most_similar(positive=[\"man\", \"nurse\"], negative=[\"woman\"])"
   ]
  },
  {
   "cell_type": "code",
   "execution_count": null,
   "id": "5bf8e6d9",
   "metadata": {},
   "outputs": [],
   "source": []
  }
 ],
 "metadata": {
  "kernelspec": {
   "display_name": ".venv_course_word_embeddings",
   "language": "python",
   "name": "python3"
  },
  "language_info": {
   "codemirror_mode": {
    "name": "ipython",
    "version": 3
   },
   "file_extension": ".py",
   "mimetype": "text/x-python",
   "name": "python",
   "nbconvert_exporter": "python",
   "pygments_lexer": "ipython3",
   "version": "3.12.5"
  }
 },
 "nbformat": 4,
 "nbformat_minor": 5
}
