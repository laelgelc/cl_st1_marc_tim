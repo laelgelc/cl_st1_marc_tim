{
 "cells": [
  {
   "cell_type": "code",
   "execution_count": 13,
   "id": "828efad7",
   "metadata": {},
   "outputs": [],
   "source": [
    "# In this part of the course, we explore pretrained word embedding models\n",
    "# We will start in the Browser – please go to\n",
    "# https://projector.tensorflow.org"
   ]
  },
  {
   "cell_type": "code",
   "execution_count": 14,
   "id": "10e9541c",
   "metadata": {},
   "outputs": [
    {
     "name": "stdout",
     "output_type": "stream",
     "text": [
      "{\n",
      "    \"fasttext-wiki-news-subwords-300\": {\n",
      "        \"num_records\": 999999,\n",
      "        \"file_size\": 1005007116,\n",
      "        \"base_dataset\": \"Wikipedia 2017, UMBC webbase corpus and statmt.org news dataset (16B tokens)\",\n",
      "        \"reader_code\": \"https://github.com/RaRe-Technologies/gensim-data/releases/download/fasttext-wiki-news-subwords-300/__init__.py\",\n",
      "        \"license\": \"https://creativecommons.org/licenses/by-sa/3.0/\",\n",
      "        \"parameters\": {\n",
      "            \"dimension\": 300\n",
      "        },\n",
      "        \"description\": \"1 million word vectors trained on Wikipedia 2017, UMBC webbase corpus and statmt.org news dataset (16B tokens).\",\n",
      "        \"read_more\": [\n",
      "            \"https://fasttext.cc/docs/en/english-vectors.html\",\n",
      "            \"https://arxiv.org/abs/1712.09405\",\n",
      "            \"https://arxiv.org/abs/1607.01759\"\n",
      "        ],\n",
      "        \"checksum\": \"de2bb3a20c46ce65c9c131e1ad9a77af\",\n",
      "        \"file_name\": \"fasttext-wiki-news-subwords-300.gz\",\n",
      "        \"parts\": 1\n",
      "    },\n",
      "    \"conceptnet-numberbatch-17-06-300\": {\n",
      "        \"num_records\": 1917247,\n",
      "        \"file_size\": 1225497562,\n",
      "        \"base_dataset\": \"ConceptNet, word2vec, GloVe, and OpenSubtitles 2016\",\n",
      "        \"reader_code\": \"https://github.com/RaRe-Technologies/gensim-data/releases/download/conceptnet-numberbatch-17-06-300/__init__.py\",\n",
      "        \"license\": \"https://github.com/commonsense/conceptnet-numberbatch/blob/master/LICENSE.txt\",\n",
      "        \"parameters\": {\n",
      "            \"dimension\": 300\n",
      "        },\n",
      "        \"description\": \"ConceptNet Numberbatch consists of state-of-the-art semantic vectors (also known as word embeddings) that can be used directly as a representation of word meanings or as a starting point for further machine learning. ConceptNet Numberbatch is part of the ConceptNet open data project. ConceptNet provides lots of ways to compute with word meanings, one of which is word embeddings. ConceptNet Numberbatch is a snapshot of just the word embeddings. It is built using an ensemble that combines data from ConceptNet, word2vec, GloVe, and OpenSubtitles 2016, using a variation on retrofitting.\",\n",
      "        \"read_more\": [\n",
      "            \"http://aaai.org/ocs/index.php/AAAI/AAAI17/paper/view/14972\",\n",
      "            \"https://github.com/commonsense/conceptnet-numberbatch\",\n",
      "            \"http://conceptnet.io/\"\n",
      "        ],\n",
      "        \"checksum\": \"fd642d457adcd0ea94da0cd21b150847\",\n",
      "        \"file_name\": \"conceptnet-numberbatch-17-06-300.gz\",\n",
      "        \"parts\": 1\n",
      "    },\n",
      "    \"word2vec-ruscorpora-300\": {\n",
      "        \"num_records\": 184973,\n",
      "        \"file_size\": 208427381,\n",
      "        \"base_dataset\": \"Russian National Corpus (about 250M words)\",\n",
      "        \"reader_code\": \"https://github.com/RaRe-Technologies/gensim-data/releases/download/word2vec-ruscorpora-300/__init__.py\",\n",
      "        \"license\": \"https://creativecommons.org/licenses/by/4.0/deed.en\",\n",
      "        \"parameters\": {\n",
      "            \"dimension\": 300,\n",
      "            \"window_size\": 10\n",
      "        },\n",
      "        \"description\": \"Word2vec Continuous Skipgram vectors trained on full Russian National Corpus (about 250M words). The model contains 185K words.\",\n",
      "        \"preprocessing\": \"The corpus was lemmatized and tagged with Universal PoS\",\n",
      "        \"read_more\": [\n",
      "            \"https://www.academia.edu/24306935/WebVectors_a_Toolkit_for_Building_Web_Interfaces_for_Vector_Semantic_Models\",\n",
      "            \"http://rusvectores.org/en/\",\n",
      "            \"https://github.com/RaRe-Technologies/gensim-data/issues/3\"\n",
      "        ],\n",
      "        \"checksum\": \"9bdebdc8ae6d17d20839dd9b5af10bc4\",\n",
      "        \"file_name\": \"word2vec-ruscorpora-300.gz\",\n",
      "        \"parts\": 1\n",
      "    },\n",
      "    \"word2vec-google-news-300\": {\n",
      "        \"num_records\": 3000000,\n",
      "        \"file_size\": 1743563840,\n",
      "        \"base_dataset\": \"Google News (about 100 billion words)\",\n",
      "        \"reader_code\": \"https://github.com/RaRe-Technologies/gensim-data/releases/download/word2vec-google-news-300/__init__.py\",\n",
      "        \"license\": \"not found\",\n",
      "        \"parameters\": {\n",
      "            \"dimension\": 300\n",
      "        },\n",
      "        \"description\": \"Pre-trained vectors trained on a part of the Google News dataset (about 100 billion words). The model contains 300-dimensional vectors for 3 million words and phrases. The phrases were obtained using a simple data-driven approach described in 'Distributed Representations of Words and Phrases and their Compositionality' (https://code.google.com/archive/p/word2vec/).\",\n",
      "        \"read_more\": [\n",
      "            \"https://code.google.com/archive/p/word2vec/\",\n",
      "            \"https://arxiv.org/abs/1301.3781\",\n",
      "            \"https://arxiv.org/abs/1310.4546\",\n",
      "            \"https://www.microsoft.com/en-us/research/publication/linguistic-regularities-in-continuous-space-word-representations/?from=http%3A%2F%2Fresearch.microsoft.com%2Fpubs%2F189726%2Frvecs.pdf\"\n",
      "        ],\n",
      "        \"checksum\": \"a5e5354d40acb95f9ec66d5977d140ef\",\n",
      "        \"file_name\": \"word2vec-google-news-300.gz\",\n",
      "        \"parts\": 1\n",
      "    },\n",
      "    \"glove-wiki-gigaword-50\": {\n",
      "        \"num_records\": 400000,\n",
      "        \"file_size\": 69182535,\n",
      "        \"base_dataset\": \"Wikipedia 2014 + Gigaword 5 (6B tokens, uncased)\",\n",
      "        \"reader_code\": \"https://github.com/RaRe-Technologies/gensim-data/releases/download/glove-wiki-gigaword-50/__init__.py\",\n",
      "        \"license\": \"http://opendatacommons.org/licenses/pddl/\",\n",
      "        \"parameters\": {\n",
      "            \"dimension\": 50\n",
      "        },\n",
      "        \"description\": \"Pre-trained vectors based on Wikipedia 2014 + Gigaword, 5.6B tokens, 400K vocab, uncased (https://nlp.stanford.edu/projects/glove/).\",\n",
      "        \"preprocessing\": \"Converted to w2v format with `python -m gensim.scripts.glove2word2vec -i <fname> -o glove-wiki-gigaword-50.txt`.\",\n",
      "        \"read_more\": [\n",
      "            \"https://nlp.stanford.edu/projects/glove/\",\n",
      "            \"https://nlp.stanford.edu/pubs/glove.pdf\"\n",
      "        ],\n",
      "        \"checksum\": \"c289bc5d7f2f02c6dc9f2f9b67641813\",\n",
      "        \"file_name\": \"glove-wiki-gigaword-50.gz\",\n",
      "        \"parts\": 1\n",
      "    },\n",
      "    \"glove-wiki-gigaword-100\": {\n",
      "        \"num_records\": 400000,\n",
      "        \"file_size\": 134300434,\n",
      "        \"base_dataset\": \"Wikipedia 2014 + Gigaword 5 (6B tokens, uncased)\",\n",
      "        \"reader_code\": \"https://github.com/RaRe-Technologies/gensim-data/releases/download/glove-wiki-gigaword-100/__init__.py\",\n",
      "        \"license\": \"http://opendatacommons.org/licenses/pddl/\",\n",
      "        \"parameters\": {\n",
      "            \"dimension\": 100\n",
      "        },\n",
      "        \"description\": \"Pre-trained vectors based on Wikipedia 2014 + Gigaword 5.6B tokens, 400K vocab, uncased (https://nlp.stanford.edu/projects/glove/).\",\n",
      "        \"preprocessing\": \"Converted to w2v format with `python -m gensim.scripts.glove2word2vec -i <fname> -o glove-wiki-gigaword-100.txt`.\",\n",
      "        \"read_more\": [\n",
      "            \"https://nlp.stanford.edu/projects/glove/\",\n",
      "            \"https://nlp.stanford.edu/pubs/glove.pdf\"\n",
      "        ],\n",
      "        \"checksum\": \"40ec481866001177b8cd4cb0df92924f\",\n",
      "        \"file_name\": \"glove-wiki-gigaword-100.gz\",\n",
      "        \"parts\": 1\n",
      "    },\n",
      "    \"glove-wiki-gigaword-200\": {\n",
      "        \"num_records\": 400000,\n",
      "        \"file_size\": 264336934,\n",
      "        \"base_dataset\": \"Wikipedia 2014 + Gigaword 5 (6B tokens, uncased)\",\n",
      "        \"reader_code\": \"https://github.com/RaRe-Technologies/gensim-data/releases/download/glove-wiki-gigaword-200/__init__.py\",\n",
      "        \"license\": \"http://opendatacommons.org/licenses/pddl/\",\n",
      "        \"parameters\": {\n",
      "            \"dimension\": 200\n",
      "        },\n",
      "        \"description\": \"Pre-trained vectors based on Wikipedia 2014 + Gigaword, 5.6B tokens, 400K vocab, uncased (https://nlp.stanford.edu/projects/glove/).\",\n",
      "        \"preprocessing\": \"Converted to w2v format with `python -m gensim.scripts.glove2word2vec -i <fname> -o glove-wiki-gigaword-200.txt`.\",\n",
      "        \"read_more\": [\n",
      "            \"https://nlp.stanford.edu/projects/glove/\",\n",
      "            \"https://nlp.stanford.edu/pubs/glove.pdf\"\n",
      "        ],\n",
      "        \"checksum\": \"59652db361b7a87ee73834a6c391dfc1\",\n",
      "        \"file_name\": \"glove-wiki-gigaword-200.gz\",\n",
      "        \"parts\": 1\n",
      "    },\n",
      "    \"glove-wiki-gigaword-300\": {\n",
      "        \"num_records\": 400000,\n",
      "        \"file_size\": 394362229,\n",
      "        \"base_dataset\": \"Wikipedia 2014 + Gigaword 5 (6B tokens, uncased)\",\n",
      "        \"reader_code\": \"https://github.com/RaRe-Technologies/gensim-data/releases/download/glove-wiki-gigaword-300/__init__.py\",\n",
      "        \"license\": \"http://opendatacommons.org/licenses/pddl/\",\n",
      "        \"parameters\": {\n",
      "            \"dimension\": 300\n",
      "        },\n",
      "        \"description\": \"Pre-trained vectors based on Wikipedia 2014 + Gigaword, 5.6B tokens, 400K vocab, uncased (https://nlp.stanford.edu/projects/glove/).\",\n",
      "        \"preprocessing\": \"Converted to w2v format with `python -m gensim.scripts.glove2word2vec -i <fname> -o glove-wiki-gigaword-300.txt`.\",\n",
      "        \"read_more\": [\n",
      "            \"https://nlp.stanford.edu/projects/glove/\",\n",
      "            \"https://nlp.stanford.edu/pubs/glove.pdf\"\n",
      "        ],\n",
      "        \"checksum\": \"29e9329ac2241937d55b852e8284e89b\",\n",
      "        \"file_name\": \"glove-wiki-gigaword-300.gz\",\n",
      "        \"parts\": 1\n",
      "    },\n",
      "    \"glove-twitter-25\": {\n",
      "        \"num_records\": 1193514,\n",
      "        \"file_size\": 109885004,\n",
      "        \"base_dataset\": \"Twitter (2B tweets, 27B tokens, 1.2M vocab, uncased)\",\n",
      "        \"reader_code\": \"https://github.com/RaRe-Technologies/gensim-data/releases/download/glove-twitter-25/__init__.py\",\n",
      "        \"license\": \"http://opendatacommons.org/licenses/pddl/\",\n",
      "        \"parameters\": {\n",
      "            \"dimension\": 25\n",
      "        },\n",
      "        \"description\": \"Pre-trained vectors based on 2B tweets, 27B tokens, 1.2M vocab, uncased (https://nlp.stanford.edu/projects/glove/).\",\n",
      "        \"preprocessing\": \"Converted to w2v format with `python -m gensim.scripts.glove2word2vec -i <fname> -o glove-twitter-25.txt`.\",\n",
      "        \"read_more\": [\n",
      "            \"https://nlp.stanford.edu/projects/glove/\",\n",
      "            \"https://nlp.stanford.edu/pubs/glove.pdf\"\n",
      "        ],\n",
      "        \"checksum\": \"50db0211d7e7a2dcd362c6b774762793\",\n",
      "        \"file_name\": \"glove-twitter-25.gz\",\n",
      "        \"parts\": 1\n",
      "    },\n",
      "    \"glove-twitter-50\": {\n",
      "        \"num_records\": 1193514,\n",
      "        \"file_size\": 209216938,\n",
      "        \"base_dataset\": \"Twitter (2B tweets, 27B tokens, 1.2M vocab, uncased)\",\n",
      "        \"reader_code\": \"https://github.com/RaRe-Technologies/gensim-data/releases/download/glove-twitter-50/__init__.py\",\n",
      "        \"license\": \"http://opendatacommons.org/licenses/pddl/\",\n",
      "        \"parameters\": {\n",
      "            \"dimension\": 50\n",
      "        },\n",
      "        \"description\": \"Pre-trained vectors based on 2B tweets, 27B tokens, 1.2M vocab, uncased (https://nlp.stanford.edu/projects/glove/)\",\n",
      "        \"preprocessing\": \"Converted to w2v format with `python -m gensim.scripts.glove2word2vec -i <fname> -o glove-twitter-50.txt`.\",\n",
      "        \"read_more\": [\n",
      "            \"https://nlp.stanford.edu/projects/glove/\",\n",
      "            \"https://nlp.stanford.edu/pubs/glove.pdf\"\n",
      "        ],\n",
      "        \"checksum\": \"c168f18641f8c8a00fe30984c4799b2b\",\n",
      "        \"file_name\": \"glove-twitter-50.gz\",\n",
      "        \"parts\": 1\n",
      "    },\n",
      "    \"glove-twitter-100\": {\n",
      "        \"num_records\": 1193514,\n",
      "        \"file_size\": 405932991,\n",
      "        \"base_dataset\": \"Twitter (2B tweets, 27B tokens, 1.2M vocab, uncased)\",\n",
      "        \"reader_code\": \"https://github.com/RaRe-Technologies/gensim-data/releases/download/glove-twitter-100/__init__.py\",\n",
      "        \"license\": \"http://opendatacommons.org/licenses/pddl/\",\n",
      "        \"parameters\": {\n",
      "            \"dimension\": 100\n",
      "        },\n",
      "        \"description\": \"Pre-trained vectors based on  2B tweets, 27B tokens, 1.2M vocab, uncased (https://nlp.stanford.edu/projects/glove/)\",\n",
      "        \"preprocessing\": \"Converted to w2v format with `python -m gensim.scripts.glove2word2vec -i <fname> -o glove-twitter-100.txt`.\",\n",
      "        \"read_more\": [\n",
      "            \"https://nlp.stanford.edu/projects/glove/\",\n",
      "            \"https://nlp.stanford.edu/pubs/glove.pdf\"\n",
      "        ],\n",
      "        \"checksum\": \"b04f7bed38756d64cf55b58ce7e97b15\",\n",
      "        \"file_name\": \"glove-twitter-100.gz\",\n",
      "        \"parts\": 1\n",
      "    },\n",
      "    \"glove-twitter-200\": {\n",
      "        \"num_records\": 1193514,\n",
      "        \"file_size\": 795373100,\n",
      "        \"base_dataset\": \"Twitter (2B tweets, 27B tokens, 1.2M vocab, uncased)\",\n",
      "        \"reader_code\": \"https://github.com/RaRe-Technologies/gensim-data/releases/download/glove-twitter-200/__init__.py\",\n",
      "        \"license\": \"http://opendatacommons.org/licenses/pddl/\",\n",
      "        \"parameters\": {\n",
      "            \"dimension\": 200\n",
      "        },\n",
      "        \"description\": \"Pre-trained vectors based on 2B tweets, 27B tokens, 1.2M vocab, uncased (https://nlp.stanford.edu/projects/glove/).\",\n",
      "        \"preprocessing\": \"Converted to w2v format with `python -m gensim.scripts.glove2word2vec -i <fname> -o glove-twitter-200.txt`.\",\n",
      "        \"read_more\": [\n",
      "            \"https://nlp.stanford.edu/projects/glove/\",\n",
      "            \"https://nlp.stanford.edu/pubs/glove.pdf\"\n",
      "        ],\n",
      "        \"checksum\": \"e52e8392d1860b95d5308a525817d8f9\",\n",
      "        \"file_name\": \"glove-twitter-200.gz\",\n",
      "        \"parts\": 1\n",
      "    },\n",
      "    \"__testing_word2vec-matrix-synopsis\": {\n",
      "        \"description\": \"[THIS IS ONLY FOR TESTING] Word vecrors of the movie matrix.\",\n",
      "        \"parameters\": {\n",
      "            \"dimensions\": 50\n",
      "        },\n",
      "        \"preprocessing\": \"Converted to w2v using a preprocessed corpus. Converted to w2v format with `python3.5 -m gensim.models.word2vec -train <input_filename> -iter 50 -output <output_filename>`.\",\n",
      "        \"read_more\": [],\n",
      "        \"checksum\": \"534dcb8b56a360977a269b7bfc62d124\",\n",
      "        \"file_name\": \"__testing_word2vec-matrix-synopsis.gz\",\n",
      "        \"parts\": 1\n",
      "    }\n",
      "}\n"
     ]
    }
   ],
   "source": [
    "# The Gensim library provides a convenient way to load and use different models and corpora\n",
    "# Here you find more information: https://radimrehurek.com/gensim/downloader.html\n",
    "# And here a jupyter notebook with examples: https://radimrehurek.com/gensim/auto_examples/howtos/run_downloader_api.html\n",
    "\n",
    "import gensim.downloader as api\n",
    "import json\n",
    "\n",
    "info = api.info()\n",
    "print(json.dumps(info[\"models\"], indent=4))"
   ]
  },
  {
   "cell_type": "code",
   "execution_count": 15,
   "id": "366f99ef",
   "metadata": {},
   "outputs": [],
   "source": [
    "# We will download and use a small wikipedia model\n",
    "model = api.load(\"glove-wiki-gigaword-50\")"
   ]
  },
  {
   "cell_type": "code",
   "execution_count": 16,
   "id": "1bb53636",
   "metadata": {},
   "outputs": [
    {
     "data": {
      "text/plain": [
       "[('anthropology', 0.8712018132209778),\n",
       " ('philology', 0.8677397966384888),\n",
       " ('sociology', 0.8010218143463135),\n",
       " ('comparative', 0.7935947775840759),\n",
       " ('psychology', 0.7921764850616455),\n",
       " ('mathematics', 0.7858846187591553),\n",
       " ('phonology', 0.7803564667701721),\n",
       " ('biology', 0.7800031900405884),\n",
       " ('literatures', 0.7772234678268433),\n",
       " ('musicology', 0.7711768746376038)]"
      ]
     },
     "execution_count": 16,
     "metadata": {},
     "output_type": "execute_result"
    }
   ],
   "source": [
    "# Let's ask for nearest neighbors of a word\n",
    "\n",
    "model.most_similar(\"linguistics\")"
   ]
  },
  {
   "cell_type": "code",
   "execution_count": 17,
   "id": "0d7d0140",
   "metadata": {},
   "outputs": [
    {
     "data": {
      "text/plain": [
       "[('attacks', 0.9274438619613647),\n",
       " ('bombing', 0.8695275783538818),\n",
       " ('suicide', 0.8600562214851379),\n",
       " ('raid', 0.8567200303077698),\n",
       " ('bomb', 0.8250046968460083),\n",
       " ('ambush', 0.8242325186729431),\n",
       " ('killing', 0.8198404312133789),\n",
       " ('deadly', 0.8161443471908569),\n",
       " ('strikes', 0.8123002052307129),\n",
       " ('militants', 0.8120480179786682)]"
      ]
     },
     "execution_count": 17,
     "metadata": {},
     "output_type": "execute_result"
    }
   ],
   "source": [
    "# As we can see, the closest words (cosine similarity) are semantically similar, even potential synonyms\n",
    "model.most_similar(\"attack\")"
   ]
  },
  {
   "cell_type": "code",
   "execution_count": 18,
   "id": "13d47509",
   "metadata": {},
   "outputs": [
    {
     "data": {
      "text/plain": [
       "[('homophobia', 0.7731683850288391),\n",
       " ('heterosexism', 0.729769766330719),\n",
       " ('ariano', 0.7098562121391296),\n",
       " ('zoophilia', 0.696968138217926),\n",
       " ('anti-asian', 0.6925331354141235),\n",
       " ('mudan', 0.6768403053283691),\n",
       " ('eling', 0.675630509853363),\n",
       " ('covetousness', 0.6748610138893127),\n",
       " ('classism', 0.66963791847229),\n",
       " ('casteism', 0.668304443359375),\n",
       " ('anti-black', 0.6663869619369507),\n",
       " ('gender-based', 0.6573017239570618),\n",
       " ('misogyny', 0.6561839580535889),\n",
       " ('heteronormativity', 0.6560376882553101),\n",
       " ('cyberbullying', 0.6537344455718994),\n",
       " ('polyarthritis', 0.6513605713844299),\n",
       " ('storyland', 0.6510611772537231),\n",
       " ('discriminations', 0.6508241891860962),\n",
       " ('untouchability', 0.6493785381317139),\n",
       " ('cut-throat', 0.6465195417404175),\n",
       " ('anti-militarism', 0.6464475393295288),\n",
       " ('anti-muslim', 0.6445224285125732),\n",
       " ('zero-one', 0.6417361497879028),\n",
       " ('nasaf', 0.6404805183410645),\n",
       " ('speciesism', 0.6389020681381226)]"
      ]
     },
     "execution_count": 18,
     "metadata": {},
     "output_type": "execute_result"
    }
   ],
   "source": [
    "# The most_similar function also has a parameter called topn, which allows us to specify how many words we want to retrieve\n",
    "model.most_similar(\"transphobia\", topn=25)"
   ]
  },
  {
   "cell_type": "code",
   "execution_count": 19,
   "id": "d68c32d3",
   "metadata": {},
   "outputs": [],
   "source": [
    "# Now take some time to explore the model and look at word neighbourhoods that might be interesting for your research\n",
    "\n",
    "# ..."
   ]
  },
  {
   "cell_type": "code",
   "execution_count": 20,
   "id": "de2107b2",
   "metadata": {},
   "outputs": [
    {
     "data": {
      "text/plain": [
       "[('queen', 0.8523604273796082),\n",
       " ('throne', 0.7664334177970886),\n",
       " ('prince', 0.759214460849762),\n",
       " ('daughter', 0.7473882436752319),\n",
       " ('elizabeth', 0.7460219860076904),\n",
       " ('princess', 0.7424570322036743),\n",
       " ('kingdom', 0.7337412238121033),\n",
       " ('monarch', 0.7214491367340088),\n",
       " ('eldest', 0.7184861898422241),\n",
       " ('widow', 0.7099431157112122)]"
      ]
     },
     "execution_count": 20,
     "metadata": {},
     "output_type": "execute_result"
    }
   ],
   "source": [
    "# We can also do math with words\n",
    "# For example, we can find the words that are most similar to ...\n",
    "# king - man + woman\n",
    "model.most_similar(positive=[\"king\", \"woman\"], negative=[\"man\"])"
   ]
  },
  {
   "cell_type": "code",
   "execution_count": 21,
   "id": "001c3f21",
   "metadata": {},
   "outputs": [
    {
     "data": {
      "text/plain": [
       "[('berlin', 0.9203965663909912),\n",
       " ('frankfurt', 0.8201637268066406),\n",
       " ('vienna', 0.8182449340820312),\n",
       " ('munich', 0.8152028918266296),\n",
       " ('hamburg', 0.7986699342727661),\n",
       " ('stockholm', 0.7764841914176941),\n",
       " ('budapest', 0.7678731083869934),\n",
       " ('warsaw', 0.7668997645378113),\n",
       " ('prague', 0.7664732336997986),\n",
       " ('amsterdam', 0.7555989623069763)]"
      ]
     },
     "execution_count": 21,
     "metadata": {},
     "output_type": "execute_result"
    }
   ],
   "source": [
    "# Or we do Paris - France + Germany\n",
    "model.most_similar(positive=[\"paris\", \"germany\"], negative=[\"france\"])"
   ]
  },
  {
   "cell_type": "code",
   "execution_count": 22,
   "id": "e69d5eee",
   "metadata": {},
   "outputs": [
    {
     "data": {
      "text/plain": [
       "[('janeiro', 0.8591146469116211),\n",
       " ('aires', 0.8547869324684143),\n",
       " ('paulo', 0.8382591605186462),\n",
       " ('buenos', 0.8382505178451538),\n",
       " ('sao', 0.7907378673553467),\n",
       " ('rio', 0.7878146767616272),\n",
       " ('lisbon', 0.7390437126159668),\n",
       " ('lima', 0.7380942106246948),\n",
       " ('madrid', 0.7324861288070679),\n",
       " ('brazilian', 0.7284553647041321)]"
      ]
     },
     "execution_count": 22,
     "metadata": {},
     "output_type": "execute_result"
    }
   ],
   "source": [
    "# But as you can see, the results are not always what we expect\n",
    "model.most_similar(positive=[\"paris\", \"brazil\"], negative=[\"france\"])"
   ]
  },
  {
   "cell_type": "code",
   "execution_count": 23,
   "id": "56fa6e5a",
   "metadata": {},
   "outputs": [
    {
     "data": {
      "text/plain": [
       "[('prodigy', 0.6731116771697998),\n",
       " ('therapist', 0.6414065361022949),\n",
       " ('psychotherapist', 0.6201493740081787),\n",
       " ('technician', 0.6191534996032715),\n",
       " ('programmers', 0.59874427318573),\n",
       " ('educator', 0.5932906866073608),\n",
       " ('psychologist', 0.5907979607582092),\n",
       " ('installer', 0.5891358256340027),\n",
       " ('acrobat', 0.5890737771987915),\n",
       " ('indian-american', 0.5828384160995483)]"
      ]
     },
     "execution_count": 23,
     "metadata": {},
     "output_type": "execute_result"
    }
   ],
   "source": [
    "# There is a famous paper \"Man is to Computer Programmer as Woman is to Homemaker?\" (Bolukbasi et al. 2016)\n",
    "# Not quite the case here, but let's see what we get\n",
    "\n",
    "model.most_similar(positive=[\"programmer\", \"woman\"], negative=[\"man\"])"
   ]
  },
  {
   "cell_type": "code",
   "execution_count": 24,
   "id": "d0ebd0fe-c04f-4a2d-bc13-7efc00ff2ae2",
   "metadata": {},
   "outputs": [
    {
     "data": {
      "text/plain": [
       "[('programmers', 0.6660891175270081),\n",
       " ('software', 0.6582856774330139),\n",
       " ('computer', 0.6441952586174011),\n",
       " ('setup', 0.6373560428619385),\n",
       " ('animator', 0.6243171095848083),\n",
       " ('backup', 0.6232407689094543),\n",
       " ('innovator', 0.6204433441162109),\n",
       " ('entrepreneur', 0.6109629273414612),\n",
       " ('smart', 0.6065289974212646),\n",
       " ('developer', 0.6034530997276306)]"
      ]
     },
     "execution_count": 24,
     "metadata": {},
     "output_type": "execute_result"
    }
   ],
   "source": [
    "model.most_similar(positive=[\"programmer\", \"man\"], negative=[\"woman\"])"
   ]
  },
  {
   "cell_type": "code",
   "execution_count": 25,
   "id": "f5cd6f0f",
   "metadata": {},
   "outputs": [
    {
     "data": {
      "text/plain": [
       "[('doctor', 0.8087943196296692),\n",
       " ('trained', 0.709814190864563),\n",
       " ('officer', 0.7070510983467102),\n",
       " ('surgeon', 0.7042073011398315),\n",
       " ('psychiatrist', 0.7012713551521301),\n",
       " ('teacher', 0.6995468139648438),\n",
       " ('physician', 0.6971623301506042),\n",
       " ('boy', 0.6922944784164429),\n",
       " ('young', 0.6911004185676575),\n",
       " ('firefighter', 0.6885278820991516)]"
      ]
     },
     "execution_count": 25,
     "metadata": {},
     "output_type": "execute_result"
    }
   ],
   "source": [
    "# Woman is to Nurse as Man is to Doctor\n",
    "model.most_similar(positive=[\"man\", \"nurse\"], negative=[\"woman\"])"
   ]
  },
  {
   "cell_type": "code",
   "execution_count": 26,
   "id": "5bf8e6d9",
   "metadata": {},
   "outputs": [
    {
     "data": {
      "text/plain": [
       "[('football', 0.8626790046691895),\n",
       " ('baseball', 0.8460296988487244),\n",
       " ('nba', 0.8321873545646667),\n",
       " ('hockey', 0.8035606145858765),\n",
       " ('cowboys', 0.7964950203895569),\n",
       " ('nfl', 0.7951563000679016),\n",
       " ('league', 0.7933791875839233),\n",
       " ('team', 0.78618323802948),\n",
       " ('soccer', 0.7773200869560242),\n",
       " ('coach', 0.7707177400588989)]"
      ]
     },
     "execution_count": 26,
     "metadata": {},
     "output_type": "execute_result"
    }
   ],
   "source": [
    "model.most_similar(positive=[\"man\", \"basketball\"], negative=[\"woman\"])"
   ]
  },
  {
   "cell_type": "code",
   "execution_count": 27,
   "id": "7578311f-2c58-4cad-ae30-9fcbec0f95e1",
   "metadata": {},
   "outputs": [
    {
     "data": {
      "text/plain": [
       "[('volleyball', 0.7890125513076782),\n",
       " ('softball', 0.779455840587616),\n",
       " ('hockey', 0.7546179890632629),\n",
       " ('varsity', 0.7487680912017822),\n",
       " ('collegiate', 0.7479637861251831),\n",
       " ('gymnastics', 0.7399787306785583),\n",
       " ('ncaa', 0.735418975353241),\n",
       " ('athletics', 0.7342723608016968),\n",
       " ('lacrosse', 0.7327582836151123),\n",
       " ('junior', 0.7303614616394043)]"
      ]
     },
     "execution_count": 27,
     "metadata": {},
     "output_type": "execute_result"
    }
   ],
   "source": [
    "model.most_similar(positive=[\"woman\", \"basketball\"], negative=[\"man\"])"
   ]
  },
  {
   "cell_type": "code",
   "execution_count": null,
   "id": "589e4bb6-ebae-4642-bc79-4d8d5d5b2c8f",
   "metadata": {},
   "outputs": [],
   "source": []
  }
 ],
 "metadata": {
  "kernelspec": {
   "display_name": "Python 3 (ipykernel)",
   "language": "python",
   "name": "python3"
  },
  "language_info": {
   "codemirror_mode": {
    "name": "ipython",
    "version": 3
   },
   "file_extension": ".py",
   "mimetype": "text/x-python",
   "name": "python",
   "nbconvert_exporter": "python",
   "pygments_lexer": "ipython3",
   "version": "3.10.12"
  }
 },
 "nbformat": 4,
 "nbformat_minor": 5
}
