{
 "cells": [
  {
   "cell_type": "markdown",
   "id": "3f36f38d",
   "metadata": {
    "id": "3f36f38d"
   },
   "source": [
    "# Chapter 1: Getting started"
   ]
  },
  {
   "cell_type": "markdown",
   "id": "f5bed836",
   "metadata": {
    "id": "f5bed836"
   },
   "source": [
    "-- *A Python Course for the Humanities by Folgert Karsdorp and Maarten van Gompel*"
   ]
  },
  {
   "cell_type": "markdown",
   "id": "987a2011",
   "metadata": {
    "id": "987a2011"
   },
   "source": [
    "---"
   ]
  },
  {
   "cell_type": "code",
   "execution_count": 4,
   "id": "2f4b413f",
   "metadata": {
    "colab": {
     "base_uri": "https://localhost:8080/"
    },
    "executionInfo": {
     "elapsed": 26,
     "status": "ok",
     "timestamp": 1746717792177,
     "user": {
      "displayName": "Tim Feldmüller",
      "userId": "16939973853349870526"
     },
     "user_tz": -120
    },
    "id": "2f4b413f",
    "outputId": "11e26233-149d-4f6e-aae8-cdccc0e9013e"
   },
   "outputs": [
    {
     "name": "stdout",
     "output_type": "stream",
     "text": [
      "Ready, set, GO!\n"
     ]
    }
   ],
   "source": [
    "print(\"Ready, set, GO!\")"
   ]
  },
  {
   "cell_type": "markdown",
   "id": "3acc9edd",
   "metadata": {
    "id": "3acc9edd"
   },
   "source": [
    "Everyone can learn how to program and the best way to learn is by doing. In this tutorial you will be asked to write a lot of code. Click any block of code in this tutorial, such as the one above, and press ctrl+enter to run it. Let's begin right away and write our first little program!  "
   ]
  },
  {
   "cell_type": "markdown",
   "id": "45021d2c",
   "metadata": {
    "id": "45021d2c"
   },
   "source": [
    "----------"
   ]
  },
  {
   "cell_type": "markdown",
   "id": "c94293f6",
   "metadata": {
    "id": "c94293f6"
   },
   "source": [
    "#### Quiz!"
   ]
  },
  {
   "cell_type": "markdown",
   "id": "a3101455",
   "metadata": {
    "id": "a3101455"
   },
   "source": [
    "In the code box below, write a simple program that calculates how many minutes there are in seven weeks."
   ]
  },
  {
   "cell_type": "code",
   "execution_count": 9,
   "id": "fa2cfc19",
   "metadata": {
    "id": "fa2cfc19"
   },
   "outputs": [
    {
     "data": {
      "text/plain": [
       "70560"
      ]
     },
     "execution_count": 9,
     "metadata": {},
     "output_type": "execute_result"
    }
   ],
   "source": [
    "# insert your code here\n",
    "60*24*7*7"
   ]
  },
  {
   "cell_type": "markdown",
   "id": "4c6484fa",
   "metadata": {
    "id": "4c6484fa"
   },
   "source": [
    "-----------"
   ]
  },
  {
   "cell_type": "markdown",
   "id": "8d28a6a5",
   "metadata": {
    "id": "8d28a6a5"
   },
   "source": [
    "Great! You have written your first little program and you've done it without any help! So, can we now go beyond using our programming language as a simple calculator? Before we ask you to write another program, we will first have to explain something about `assignment'.\n",
    "\n",
    "We can assign values to variables using the `=` operator. A variable is just a name we give to a particular value, you can imagine it as a box you put a certain value into, and on which you write a name with a black marker. The following code block contains two operations. First, we assign the value 2 to the name `x`. After that `x` will hold the value 2. You might say Python stored the value 2 in `x`. Finally we print the value using the `print()` command."
   ]
  },
  {
   "cell_type": "code",
   "execution_count": 10,
   "id": "771c571a",
   "metadata": {
    "id": "771c571a"
   },
   "outputs": [
    {
     "name": "stdout",
     "output_type": "stream",
     "text": [
      "2\n"
     ]
    }
   ],
   "source": [
    "x = 2\n",
    "print(x)"
   ]
  },
  {
   "cell_type": "markdown",
   "id": "2c2693bb",
   "metadata": {
    "id": "2c2693bb"
   },
   "source": [
    "Now that we stored the value 2 in `x`, we can use the variable `x` to do things like the following:"
   ]
  },
  {
   "cell_type": "code",
   "execution_count": 11,
   "id": "58112e65",
   "metadata": {
    "id": "58112e65"
   },
   "outputs": [
    {
     "name": "stdout",
     "output_type": "stream",
     "text": [
      "4\n",
      "True\n",
      "False\n"
     ]
    }
   ],
   "source": [
    "print(x * x)\n",
    "print(x == x)\n",
    "print(x > 6)"
   ]
  },
  {
   "cell_type": "markdown",
   "id": "8dedf58d",
   "metadata": {
    "id": "8dedf58d"
   },
   "source": [
    "Can you figure out what is happening here?\n",
    "\n",
    "Variables are not just numbers. They can also be text. These are called strings. For example:"
   ]
  },
  {
   "cell_type": "code",
   "execution_count": 12,
   "id": "9260c4a2",
   "metadata": {
    "id": "9260c4a2"
   },
   "outputs": [
    {
     "name": "stdout",
     "output_type": "stream",
     "text": [
      "The Lord of the Flies\n"
     ]
    }
   ],
   "source": [
    "book = \"The Lord of the Flies\"\n",
    "print(book)"
   ]
  },
  {
   "cell_type": "markdown",
   "id": "d6596154",
   "metadata": {
    "id": "d6596154"
   },
   "source": [
    "A string in Python must be enclosed with quotes (either single or double quotes). Without those quotes Python thinks its dealing with variables that have been defined earlier. `book` is a variable to which we assign the string `\"The Lord of the Flies\"`, but that same string is not a variable but a value!\n",
    "\n",
    "Variable names can be chosen arbitrarily. *We* give a certain value a name, and we are free to pick one to our liking. It is, however, recommended to use senseful names as we will use the variable names in our code directly and not the values they hold."
   ]
  },
  {
   "cell_type": "code",
   "execution_count": 13,
   "id": "598499d2",
   "metadata": {
    "id": "598499d2"
   },
   "outputs": [
    {
     "name": "stdout",
     "output_type": "stream",
     "text": [
      "The Lord of the Flies\n"
     ]
    }
   ],
   "source": [
    "# not recommended...\n",
    "banana = \"The Lord of the Flies\"\n",
    "print(banana)"
   ]
  },
  {
   "cell_type": "markdown",
   "id": "d091451c",
   "metadata": {
    "id": "d091451c"
   },
   "source": [
    "You are free to use the name `banana` to hold the title `\"The Lord of the Flies\"` but you will agree that this naming is not transparent.\n",
    "\n",
    "Variables can vary and we can update our variables. Say we have counted how many books we have in our office:"
   ]
  },
  {
   "cell_type": "code",
   "execution_count": 14,
   "id": "efc79d98",
   "metadata": {
    "id": "efc79d98"
   },
   "outputs": [],
   "source": [
    "number_of_books = 100"
   ]
  },
  {
   "cell_type": "markdown",
   "id": "3f875522",
   "metadata": {
    "id": "3f875522"
   },
   "source": [
    "Then, when we obtain a new book, we can update the number of books accordingly:"
   ]
  },
  {
   "cell_type": "code",
   "execution_count": 15,
   "id": "5f0209af",
   "metadata": {
    "id": "5f0209af"
   },
   "outputs": [
    {
     "name": "stdout",
     "output_type": "stream",
     "text": [
      "101\n"
     ]
    }
   ],
   "source": [
    "number_of_books = number_of_books + 1\n",
    "print(number_of_books)"
   ]
  },
  {
   "cell_type": "markdown",
   "id": "6688ddf6",
   "metadata": {
    "id": "6688ddf6"
   },
   "source": [
    "Updates like these happen a lot. Python therefore provides a shortcut and you can write the same thing using `+=`:"
   ]
  },
  {
   "cell_type": "code",
   "execution_count": 16,
   "id": "49393a79",
   "metadata": {
    "id": "49393a79"
   },
   "outputs": [
    {
     "name": "stdout",
     "output_type": "stream",
     "text": [
      "106\n"
     ]
    }
   ],
   "source": [
    "number_of_books += 5\n",
    "print(number_of_books)"
   ]
  },
  {
   "cell_type": "markdown",
   "id": "6edf946e",
   "metadata": {
    "id": "6edf946e"
   },
   "source": [
    "For now the final interesting thing we would like to mention about variables is that we can assign the value of one variable to another variable. We will explain more about this later on, but here you just need to understand the basic mechanism. Before you evaluate the following code block, can you predict what Python will print?"
   ]
  },
  {
   "cell_type": "code",
   "execution_count": 17,
   "id": "6f7f95c3",
   "metadata": {
    "id": "6f7f95c3"
   },
   "outputs": [
    {
     "name": "stdout",
     "output_type": "stream",
     "text": [
      "The Lord of the Flies\n"
     ]
    }
   ],
   "source": [
    "book = \"The Lord of the Flies\"\n",
    "reading = book\n",
    "print(reading)"
   ]
  },
  {
   "cell_type": "markdown",
   "id": "7d4db9ee",
   "metadata": {
    "id": "7d4db9ee"
   },
   "source": [
    "----------"
   ]
  },
  {
   "cell_type": "markdown",
   "id": "f103b1e2",
   "metadata": {
    "id": "f103b1e2"
   },
   "source": [
    "#### Quiz!"
   ]
  },
  {
   "cell_type": "markdown",
   "id": "8c534dac",
   "metadata": {
    "id": "8c534dac"
   },
   "source": [
    "Now that you understand all about assigning values to variables, it is time for our second programming quiz. We want you to write some code that defines a variable, *name*, and assign to it a string that is your name. If your first name is shorter than 5 characters, use your last name. If your last name is also shorter than 5 characters, use the combination of you first and last name."
   ]
  },
  {
   "cell_type": "code",
   "execution_count": 18,
   "id": "11bb27e5",
   "metadata": {
    "id": "11bb27e5"
   },
   "outputs": [
    {
     "name": "stdout",
     "output_type": "stream",
     "text": [
      "Rogério\n"
     ]
    }
   ],
   "source": [
    "# insert your code here\n",
    "name = \"Rogério\"\n",
    "print(name)"
   ]
  },
  {
   "cell_type": "markdown",
   "id": "38721f5d",
   "metadata": {
    "id": "38721f5d"
   },
   "source": [
    "--------------"
   ]
  },
  {
   "cell_type": "markdown",
   "id": "84d442cf",
   "metadata": {
    "id": "84d442cf"
   },
   "source": [
    "##### What we have learnt"
   ]
  },
  {
   "cell_type": "markdown",
   "id": "99f267ac",
   "metadata": {
    "id": "99f267ac"
   },
   "source": [
    "To finish this section, here is an overview of the concepts you have learnt. Go through the list and make sure you understand all the concepts.\n",
    "\n",
    "-  variable\n",
    "-  value\n",
    "-  assignment to variables\n",
    "-  difference between variables and values\n",
    "-  strings\n",
    "-  integers\n",
    "-  varying variables"
   ]
  },
  {
   "cell_type": "markdown",
   "id": "449b6308",
   "metadata": {
    "id": "449b6308"
   },
   "source": [
    "------"
   ]
  },
  {
   "cell_type": "markdown",
   "id": "b51522b8",
   "metadata": {
    "id": "b51522b8"
   },
   "source": [
    "## String manipulation"
   ]
  },
  {
   "cell_type": "markdown",
   "id": "2902fc05",
   "metadata": {
    "id": "2902fc05"
   },
   "source": [
    "Many disciplines within the humanities work on texts. Quite naturally programming for the humanities will focus a lot on manipulating texts. In the last quiz you were asked to define a variable that points to a string that represents your name. We have already seen some basic arithmetic in our very first calculation. Not only numbers, but also strings can be added, or, more precisely, *concatenated*, together as well:"
   ]
  },
  {
   "cell_type": "code",
   "execution_count": 19,
   "id": "0982e4a7",
   "metadata": {
    "id": "0982e4a7"
   },
   "outputs": [
    {
     "name": "stdout",
     "output_type": "stream",
     "text": [
      "Rogério likes The Lord of the Flies?\n"
     ]
    }
   ],
   "source": [
    "book = \"The Lord of the Flies\"\n",
    "print(name + \" likes \" + book + \"?\")"
   ]
  },
  {
   "cell_type": "markdown",
   "id": "9a130ae2",
   "metadata": {
    "id": "9a130ae2"
   },
   "source": [
    "This string consists of a number of characters. We can access the individual characters with the help of `indexing`. For example, to find only the first letter of your name, you can type in:"
   ]
  },
  {
   "cell_type": "code",
   "execution_count": 20,
   "id": "221e07a4",
   "metadata": {
    "id": "221e07a4"
   },
   "outputs": [
    {
     "name": "stdout",
     "output_type": "stream",
     "text": [
      "R\n"
     ]
    }
   ],
   "source": [
    "first_letter = name[0]\n",
    "print(first_letter)"
   ]
  },
  {
   "cell_type": "markdown",
   "id": "2c17729b",
   "metadata": {
    "id": "2c17729b"
   },
   "source": [
    "Notice that to access the first letter, we use the index `0`. This might seem odd, but just remember that indexes in Python start at zero."
   ]
  },
  {
   "cell_type": "markdown",
   "id": "697f692b",
   "metadata": {
    "id": "697f692b"
   },
   "source": [
    "----------"
   ]
  },
  {
   "cell_type": "markdown",
   "id": "49deccd2",
   "metadata": {
    "id": "49deccd2"
   },
   "source": [
    "#### Quiz!"
   ]
  },
  {
   "cell_type": "markdown",
   "id": "9fa690a9",
   "metadata": {
    "id": "9fa690a9"
   },
   "source": [
    "Now, if you know the length of your name you can ask for the last letter of your name:"
   ]
  },
  {
   "cell_type": "code",
   "execution_count": 23,
   "id": "a0bbff29",
   "metadata": {
    "id": "a0bbff29"
   },
   "outputs": [
    {
     "name": "stdout",
     "output_type": "stream",
     "text": [
      "o\n"
     ]
    }
   ],
   "source": [
    "#last_letter = name[# fill in the last index of your name (tip indexes start at 0)]\n",
    "last_letter = name[6]\n",
    "print(last_letter)"
   ]
  },
  {
   "cell_type": "markdown",
   "id": "60717870",
   "metadata": {
    "id": "60717870"
   },
   "source": [
    "---------"
   ]
  },
  {
   "cell_type": "markdown",
   "id": "e9071917",
   "metadata": {
    "id": "e9071917"
   },
   "source": [
    "It is rather inconvenient having to know how long our strings are if we want to find out what its last letter is. Python provides a simple way of accessing a string from the rear:"
   ]
  },
  {
   "cell_type": "code",
   "execution_count": 24,
   "id": "cf1be8a7",
   "metadata": {
    "id": "cf1be8a7"
   },
   "outputs": [
    {
     "name": "stdout",
     "output_type": "stream",
     "text": [
      "o\n"
     ]
    }
   ],
   "source": [
    "last_letter = name[-1]\n",
    "print(last_letter)"
   ]
  },
  {
   "cell_type": "markdown",
   "id": "554a1199",
   "metadata": {
    "id": "554a1199"
   },
   "source": [
    "Alternatively, there is the function `len()` which returns the length of a string:"
   ]
  },
  {
   "cell_type": "code",
   "execution_count": 25,
   "id": "8dc5bf98",
   "metadata": {
    "id": "8dc5bf98"
   },
   "outputs": [
    {
     "name": "stdout",
     "output_type": "stream",
     "text": [
      "7\n"
     ]
    }
   ],
   "source": [
    "print(len(name))"
   ]
  },
  {
   "cell_type": "markdown",
   "id": "cc323c31",
   "metadata": {
    "id": "cc323c31"
   },
   "source": [
    "Do you understand the following?"
   ]
  },
  {
   "cell_type": "code",
   "execution_count": 26,
   "id": "f4255601",
   "metadata": {
    "id": "f4255601"
   },
   "outputs": [
    {
     "name": "stdout",
     "output_type": "stream",
     "text": [
      "o\n"
     ]
    }
   ],
   "source": [
    "print(name[len(name)-1])"
   ]
  },
  {
   "cell_type": "markdown",
   "id": "9c69e439",
   "metadata": {
    "id": "9c69e439"
   },
   "source": [
    "---------"
   ]
  },
  {
   "cell_type": "markdown",
   "id": "92ffc030",
   "metadata": {
    "id": "92ffc030"
   },
   "source": [
    "#### Quiz!"
   ]
  },
  {
   "cell_type": "markdown",
   "id": "1d11a480",
   "metadata": {
    "id": "1d11a480"
   },
   "source": [
    "Now can you write some code that defines a variable `but_last_letter` and assign to it the second-to-last letter of your name?"
   ]
  },
  {
   "cell_type": "code",
   "execution_count": 27,
   "id": "ee749146",
   "metadata": {
    "id": "ee749146"
   },
   "outputs": [
    {
     "name": "stdout",
     "output_type": "stream",
     "text": [
      "i\n"
     ]
    }
   ],
   "source": [
    "#but_last_letter = # insert your code here\n",
    "but_last_letter = name[len(name)-2]\n",
    "print(but_last_letter)"
   ]
  },
  {
   "cell_type": "code",
   "execution_count": 28,
   "id": "dfb0e7d6-a0a7-4d2d-9386-82d4781a35cc",
   "metadata": {
    "id": "ee749146"
   },
   "outputs": [
    {
     "name": "stdout",
     "output_type": "stream",
     "text": [
      "i\n"
     ]
    }
   ],
   "source": [
    "#but_last_letter = # insert your code here\n",
    "but_last_letter = name[-2]\n",
    "print(but_last_letter)"
   ]
  },
  {
   "cell_type": "markdown",
   "id": "32e962c1",
   "metadata": {
    "id": "32e962c1"
   },
   "source": [
    "------"
   ]
  },
  {
   "cell_type": "markdown",
   "id": "71c95a2f",
   "metadata": {
    "id": "71c95a2f"
   },
   "source": [
    "You're starting to become a real expert in indexing strings. Now what if we would like to find out what the last two or three letters of our name are? In Python we can use so-called slice-indexes or slices for short. To find the first two letters of our name we type in:"
   ]
  },
  {
   "cell_type": "code",
   "execution_count": 29,
   "id": "933e3bf1",
   "metadata": {
    "id": "933e3bf1"
   },
   "outputs": [
    {
     "name": "stdout",
     "output_type": "stream",
     "text": [
      "Ro\n"
     ]
    }
   ],
   "source": [
    "first_two_letters = name[0:2]\n",
    "print(first_two_letters)"
   ]
  },
  {
   "cell_type": "markdown",
   "id": "a0e5af38",
   "metadata": {
    "id": "a0e5af38"
   },
   "source": [
    "The `0` index is optional, so we could just as well type in `name[:2]`. This says take all characters of name until you reach index 2. We can also start at index 2 and leave the end index unspecified:"
   ]
  },
  {
   "cell_type": "code",
   "execution_count": 33,
   "id": "728331cf",
   "metadata": {
    "id": "728331cf"
   },
   "outputs": [
    {
     "name": "stdout",
     "output_type": "stream",
     "text": [
      "gério\n"
     ]
    }
   ],
   "source": [
    "without_first_two_letters = name[2:]\n",
    "print(without_first_two_letters)"
   ]
  },
  {
   "cell_type": "markdown",
   "id": "81b377aa",
   "metadata": {
    "id": "81b377aa"
   },
   "source": [
    "Because we did not specify the end index, Python continues until it reaches the end of our string. If we would like to find out what the last two letters of our name are, we can type in:"
   ]
  },
  {
   "cell_type": "code",
   "execution_count": 31,
   "id": "3a42da11",
   "metadata": {
    "id": "3a42da11"
   },
   "outputs": [
    {
     "name": "stdout",
     "output_type": "stream",
     "text": [
      "io\n"
     ]
    }
   ],
   "source": [
    "last_two_letters = name[-2:]\n",
    "print(last_two_letters)"
   ]
  },
  {
   "cell_type": "markdown",
   "id": "5d93d44d",
   "metadata": {
    "id": "5d93d44d"
   },
   "source": [
    "Take a look at the following picture. Do you fully understand it?\n",
    "<div style=\"float: center;\"><img style=\"float: center;\" src=\"http://www.nltk.org/images/string-slicing.png\" align=center /></div>"
   ]
  },
  {
   "cell_type": "markdown",
   "id": "53fc8873",
   "metadata": {
    "id": "53fc8873"
   },
   "source": [
    "-------"
   ]
  },
  {
   "cell_type": "markdown",
   "id": "bc0c0f49",
   "metadata": {
    "id": "bc0c0f49"
   },
   "source": [
    "#### Quiz!"
   ]
  },
  {
   "cell_type": "markdown",
   "id": "772596c1",
   "metadata": {
    "id": "772596c1"
   },
   "source": [
    "Can you define a variable `middle_letters` and assign to it all letters of your name except for the first two and the last two?"
   ]
  },
  {
   "cell_type": "code",
   "execution_count": 40,
   "id": "e4380f77",
   "metadata": {
    "id": "e4380f77"
   },
   "outputs": [
    {
     "name": "stdout",
     "output_type": "stream",
     "text": [
      "gér\n"
     ]
    }
   ],
   "source": [
    "#middle_letters = # insert your code here\n",
    "middle_letters = name[2:5]\n",
    "print(middle_letters)"
   ]
  },
  {
   "cell_type": "markdown",
   "id": "7f3f13f3",
   "metadata": {
    "id": "7f3f13f3"
   },
   "source": [
    "Given the following two words, can you write code that prints out the word *humanities* using only slicing and concatenation? (So, no quotes are allowed in your code.)"
   ]
  },
  {
   "cell_type": "code",
   "execution_count": 39,
   "id": "c756d988",
   "metadata": {
    "id": "c756d988"
   },
   "outputs": [
    {
     "name": "stdout",
     "output_type": "stream",
     "text": [
      "humanities\n"
     ]
    }
   ],
   "source": [
    "word1 = \"human\"\n",
    "word2 = \"opportunities\"\n",
    "# insert your code here\n",
    "word = word1 + word2[8:14]\n",
    "print(word)"
   ]
  },
  {
   "cell_type": "code",
   "execution_count": 42,
   "id": "85d2f9bf-bfe5-4fa6-a090-b9fd9edd54f1",
   "metadata": {
    "id": "c756d988"
   },
   "outputs": [
    {
     "name": "stdout",
     "output_type": "stream",
     "text": [
      "humanities\n"
     ]
    }
   ],
   "source": [
    "word1 = \"human\"\n",
    "word2 = \"opportunities\"\n",
    "# insert your code here\n",
    "word = word1 + word2[-5:]\n",
    "print(word)"
   ]
  },
  {
   "cell_type": "markdown",
   "id": "0de64a21",
   "metadata": {
    "id": "0de64a21"
   },
   "source": [
    "----------"
   ]
  },
  {
   "cell_type": "markdown",
   "id": "82f4cb55",
   "metadata": {
    "id": "82f4cb55"
   },
   "source": [
    "##### What we have learnt"
   ]
  },
  {
   "cell_type": "markdown",
   "id": "fc46b2c0",
   "metadata": {
    "id": "fc46b2c0"
   },
   "source": [
    "To finish this section, here is an overview of what we have learnt. Go through the list and make sure you understand all the concepts.\n",
    "\n",
    "-  concatenation (e.g. addition of strings)\n",
    "-  indexing\n",
    "-  slicing\n",
    "-  `len()`"
   ]
  },
  {
   "cell_type": "markdown",
   "id": "be4d007f",
   "metadata": {
    "id": "be4d007f"
   },
   "source": [
    "-------"
   ]
  },
  {
   "cell_type": "markdown",
   "id": "6bfe0695",
   "metadata": {
    "id": "6bfe0695"
   },
   "source": [
    "## Lists"
   ]
  },
  {
   "cell_type": "markdown",
   "id": "0b982fd3",
   "metadata": {
    "id": "0b982fd3"
   },
   "source": [
    "Consider the sentence below:"
   ]
  },
  {
   "cell_type": "code",
   "execution_count": 44,
   "id": "4fceace9",
   "metadata": {
    "id": "4fceace9"
   },
   "outputs": [],
   "source": [
    "sentence = \"Python's name is derived from the television series Monty Python's Flying Circus.\""
   ]
  },
  {
   "cell_type": "markdown",
   "id": "0db34e90",
   "metadata": {
    "id": "0db34e90"
   },
   "source": [
    "Words are made up of characters, and so are string objects in Python. As we will see, it is always to be prefered to represent our data as naturally as possible. Now for the sentence above, it seems more natural to describe it in terms of words than in terms of characters. Say we want to access the first word in our sentence. If we type in:"
   ]
  },
  {
   "cell_type": "code",
   "execution_count": 45,
   "id": "6c6565c5",
   "metadata": {
    "id": "6c6565c5"
   },
   "outputs": [
    {
     "name": "stdout",
     "output_type": "stream",
     "text": [
      "P\n"
     ]
    }
   ],
   "source": [
    "first_word = sentence[0]\n",
    "print(first_word)"
   ]
  },
  {
   "cell_type": "markdown",
   "id": "1bfbfaf6",
   "metadata": {
    "id": "1bfbfaf6"
   },
   "source": [
    "Python only prints the first letter of our sentence. (Think about this if you do not understand why.) We can transform our sentence into a `list` of words (represented by strings) using the `split()` function as follows:"
   ]
  },
  {
   "cell_type": "code",
   "execution_count": 46,
   "id": "b05c8472",
   "metadata": {
    "id": "b05c8472"
   },
   "outputs": [
    {
     "name": "stdout",
     "output_type": "stream",
     "text": [
      "[\"Python's\", 'name', 'is', 'derived', 'from', 'the', 'television', 'series', 'Monty', \"Python's\", 'Flying', 'Circus.']\n"
     ]
    }
   ],
   "source": [
    "words = sentence.split()\n",
    "print(words)"
   ]
  },
  {
   "cell_type": "markdown",
   "id": "8e69b05a",
   "metadata": {
    "id": "8e69b05a"
   },
   "source": [
    "By issuing the function split on our sentence, Python splits the sentence on spaces and returns a list of words. In many ways a list functions like a string. We can access all of its components using indexes and we can use slice indexes to access parts of the list. Let's try it!"
   ]
  },
  {
   "cell_type": "markdown",
   "id": "83265d6b",
   "metadata": {
    "id": "83265d6b"
   },
   "source": [
    "--------"
   ]
  },
  {
   "cell_type": "markdown",
   "id": "697b8c09",
   "metadata": {
    "id": "697b8c09"
   },
   "source": [
    "#### Quiz!"
   ]
  },
  {
   "cell_type": "markdown",
   "id": "3514cc63",
   "metadata": {
    "id": "3514cc63"
   },
   "source": [
    "Write a small program that defines a variable `first_word` and assign to it the first word of our word list. Play around a little with the indexes to see if you really understand how it works."
   ]
  },
  {
   "cell_type": "code",
   "execution_count": 47,
   "id": "dda1bc21",
   "metadata": {
    "id": "dda1bc21"
   },
   "outputs": [
    {
     "name": "stdout",
     "output_type": "stream",
     "text": [
      "Python's\n"
     ]
    }
   ],
   "source": [
    "#first_word = # insert your code here\n",
    "first_word = words[0]\n",
    "print(first_word)"
   ]
  },
  {
   "cell_type": "markdown",
   "id": "fc07bece",
   "metadata": {
    "id": "fc07bece"
   },
   "source": [
    "---------------"
   ]
  },
  {
   "cell_type": "markdown",
   "id": "ee69a7eb",
   "metadata": {
    "id": "ee69a7eb"
   },
   "source": [
    "A `list` acts like a container where we can store all kinds of information. We can access a list using indexes and slices. We can also add new items to a list. For that you use the method `append`. Let's see how it works. Say we want to keep a list of all our good reads. We start with an empty list and we will add some good books to it:"
   ]
  },
  {
   "cell_type": "code",
   "execution_count": 48,
   "id": "abd64e65",
   "metadata": {
    "id": "abd64e65"
   },
   "outputs": [
    {
     "name": "stdout",
     "output_type": "stream",
     "text": [
      "['The Hunger games', 'A Clockwork Orange']\n"
     ]
    }
   ],
   "source": [
    "#start with an empty list\n",
    "good_reads = []\n",
    "good_reads.append(\"The Hunger games\")\n",
    "good_reads.append(\"A Clockwork Orange\")\n",
    "print(good_reads)"
   ]
  },
  {
   "cell_type": "markdown",
   "id": "36fb6cbc",
   "metadata": {
    "id": "36fb6cbc"
   },
   "source": [
    "Now, if for some reason we don't like a particular book anymore, we can change it as follows:"
   ]
  },
  {
   "cell_type": "code",
   "execution_count": 49,
   "id": "7f625b9c",
   "metadata": {
    "id": "7f625b9c"
   },
   "outputs": [
    {
     "name": "stdout",
     "output_type": "stream",
     "text": [
      "['Pride and Prejudice', 'A Clockwork Orange']\n"
     ]
    }
   ],
   "source": [
    "good_reads[0] = \"Pride and Prejudice\"\n",
    "print(good_reads)"
   ]
  },
  {
   "cell_type": "markdown",
   "id": "ed400ebf",
   "metadata": {
    "id": "ed400ebf"
   },
   "source": [
    "--------"
   ]
  },
  {
   "cell_type": "markdown",
   "id": "8c5f8432",
   "metadata": {
    "id": "8c5f8432"
   },
   "source": [
    "#### Quiz!"
   ]
  },
  {
   "cell_type": "markdown",
   "id": "d20196bd",
   "metadata": {
    "id": "d20196bd"
   },
   "source": [
    "Here's another small Quiz! Try to change the title of the second book in our good reads collection."
   ]
  },
  {
   "cell_type": "code",
   "execution_count": 50,
   "id": "cd8f6630",
   "metadata": {
    "id": "cd8f6630"
   },
   "outputs": [
    {
     "name": "stdout",
     "output_type": "stream",
     "text": [
      "['Pride and Prejudice', '1984']\n"
     ]
    }
   ],
   "source": [
    "# insert your code here\n",
    "good_reads[1] = \"1984\"\n",
    "print(good_reads)"
   ]
  },
  {
   "cell_type": "markdown",
   "id": "f8ba4e93",
   "metadata": {
    "id": "f8ba4e93"
   },
   "source": [
    "-----------"
   ]
  },
  {
   "cell_type": "markdown",
   "id": "5c8720d6",
   "metadata": {
    "id": "5c8720d6"
   },
   "source": [
    "We just changed one element in a list. Note that if you do the same thing for a string, you will get an error:"
   ]
  },
  {
   "cell_type": "code",
   "execution_count": 51,
   "id": "29c587f6",
   "metadata": {
    "id": "29c587f6"
   },
   "outputs": [
    {
     "ename": "TypeError",
     "evalue": "'str' object does not support item assignment",
     "output_type": "error",
     "traceback": [
      "\u001b[31m---------------------------------------------------------------------------\u001b[39m",
      "\u001b[31mTypeError\u001b[39m                                 Traceback (most recent call last)",
      "\u001b[36mCell\u001b[39m\u001b[36m \u001b[39m\u001b[32mIn[51]\u001b[39m\u001b[32m, line 2\u001b[39m\n\u001b[32m      1\u001b[39m name = \u001b[33m\"\u001b[39m\u001b[33mPythen\u001b[39m\u001b[33m\"\u001b[39m\n\u001b[32m----> \u001b[39m\u001b[32m2\u001b[39m name[\u001b[32m4\u001b[39m] = \u001b[33m\"\u001b[39m\u001b[33mo\u001b[39m\u001b[33m\"\u001b[39m\n",
      "\u001b[31mTypeError\u001b[39m: 'str' object does not support item assignment"
     ]
    }
   ],
   "source": [
    "name = \"Pythen\"\n",
    "name[4] = \"o\""
   ]
  },
  {
   "cell_type": "markdown",
   "id": "832c0626",
   "metadata": {
    "id": "832c0626"
   },
   "source": [
    "This is because `strings` (and some other types) are *immutable*. That is, they cannot be changed, as opposed to `lists` which *are* mutable. Let's explore some other ways in which we can manipulate lists."
   ]
  },
  {
   "cell_type": "markdown",
   "id": "f7584cd6",
   "metadata": {
    "id": "f7584cd6"
   },
   "source": [
    "#### remove()"
   ]
  },
  {
   "cell_type": "markdown",
   "id": "a21ce50c",
   "metadata": {
    "id": "a21ce50c"
   },
   "source": [
    "Let's assume our good read collection has grown a lot and we would like to remove some of the books from the list. Python provides the method `remove` that acts upon a list and takes as its argument the items we would like to remove."
   ]
  },
  {
   "cell_type": "code",
   "execution_count": 52,
   "id": "51637a77",
   "metadata": {
    "id": "51637a77"
   },
   "outputs": [
    {
     "name": "stdout",
     "output_type": "stream",
     "text": [
      "['The Hunger games', 'A Clockwork Orange', 'Pride and Prejudice', 'The Shadow of the Wind', 'Bel Canto']\n"
     ]
    }
   ],
   "source": [
    "good_reads = [\"The Hunger games\", \"A Clockwork Orange\",\n",
    "              \"Pride and Prejudice\", \"Water for Elephants\",\n",
    "              \"The Shadow of the Wind\", \"Bel Canto\"]\n",
    "\n",
    "good_reads.remove(\"Water for Elephants\")\n",
    "\n",
    "print(good_reads)"
   ]
  },
  {
   "cell_type": "markdown",
   "id": "87f9ab0c",
   "metadata": {
    "id": "87f9ab0c"
   },
   "source": [
    "If we try to remove a book that is not in our collection, Python raises an error (don't be afraid, your computer won't break ;-))"
   ]
  },
  {
   "cell_type": "code",
   "execution_count": 53,
   "id": "bb2d7535",
   "metadata": {
    "id": "bb2d7535"
   },
   "outputs": [
    {
     "ename": "ValueError",
     "evalue": "list.remove(x): x not in list",
     "output_type": "error",
     "traceback": [
      "\u001b[31m---------------------------------------------------------------------------\u001b[39m",
      "\u001b[31mValueError\u001b[39m                                Traceback (most recent call last)",
      "\u001b[36mCell\u001b[39m\u001b[36m \u001b[39m\u001b[32mIn[53]\u001b[39m\u001b[32m, line 1\u001b[39m\n\u001b[32m----> \u001b[39m\u001b[32m1\u001b[39m good_reads.remove(\u001b[33m\"\u001b[39m\u001b[33mWhite Oleander\u001b[39m\u001b[33m\"\u001b[39m)\n",
      "\u001b[31mValueError\u001b[39m: list.remove(x): x not in list"
     ]
    }
   ],
   "source": [
    "good_reads.remove(\"White Oleander\")"
   ]
  },
  {
   "cell_type": "markdown",
   "id": "3e584ebf",
   "metadata": {
    "id": "3e584ebf"
   },
   "source": [
    "--------"
   ]
  },
  {
   "cell_type": "markdown",
   "id": "d7e3c2bb",
   "metadata": {
    "id": "d7e3c2bb"
   },
   "source": [
    "#### Quiz!"
   ]
  },
  {
   "cell_type": "markdown",
   "id": "113525bb",
   "metadata": {
    "id": "113525bb"
   },
   "source": [
    "Define a variable `good_reads` as an empty list. Now add some of your favorite books to it (at least three) and print the last two books you added."
   ]
  },
  {
   "cell_type": "code",
   "execution_count": 54,
   "id": "c37fb6d6",
   "metadata": {
    "id": "c37fb6d6"
   },
   "outputs": [
    {
     "data": {
      "text/plain": [
       "['Wuthering Heights', 'Moby Dick']"
      ]
     },
     "execution_count": 54,
     "metadata": {},
     "output_type": "execute_result"
    }
   ],
   "source": [
    "# insert your code here\n",
    "good_reads = []\n",
    "good_reads.append(\"1984\")\n",
    "good_reads.append(\"Wuthering Heights\")\n",
    "good_reads.append(\"Moby Dick\")\n",
    "good_reads[1:]"
   ]
  },
  {
   "cell_type": "code",
   "execution_count": 56,
   "id": "4bf8b4e5-d414-4a32-9777-dd6172575443",
   "metadata": {
    "id": "c37fb6d6"
   },
   "outputs": [
    {
     "data": {
      "text/plain": [
       "['Wuthering Heights', 'Moby Dick']"
      ]
     },
     "execution_count": 56,
     "metadata": {},
     "output_type": "execute_result"
    }
   ],
   "source": [
    "# insert your code here\n",
    "good_reads = []\n",
    "good_reads.append(\"1984\")\n",
    "good_reads.append(\"Wuthering Heights\")\n",
    "good_reads.append(\"Moby Dick\")\n",
    "good_reads[-2:]"
   ]
  },
  {
   "cell_type": "markdown",
   "id": "00c797cc",
   "metadata": {
    "id": "00c797cc"
   },
   "source": [
    "------"
   ]
  },
  {
   "cell_type": "markdown",
   "id": "8b9547a9",
   "metadata": {
    "id": "8b9547a9"
   },
   "source": [
    "Just as with strings, we can concatenate two lists. Here is an example:"
   ]
  },
  {
   "cell_type": "code",
   "execution_count": 57,
   "id": "9a816426",
   "metadata": {
    "id": "9a816426"
   },
   "outputs": [
    {
     "name": "stdout",
     "output_type": "stream",
     "text": [
      "['The Hunger games', 'A Clockwork Orange', 'Pride and Prejudice', 'Water for Elephants', 'The Shadow of the Wind', 'Bel Canto', 'Fifty Shades of Grey', 'Twilight']\n"
     ]
    }
   ],
   "source": [
    "#first we specify two lists of strings:\n",
    "good_reads = [\"The Hunger games\", \"A Clockwork Orange\",\n",
    "              \"Pride and Prejudice\", \"Water for Elephants\",\n",
    "              \"The Shadow of the Wind\", \"Bel Canto\"]\n",
    "\n",
    "bad_reads = [\"Fifty Shades of Grey\", \"Twilight\"]\n",
    "\n",
    "all_reads = good_reads + bad_reads\n",
    "print(all_reads)"
   ]
  },
  {
   "cell_type": "markdown",
   "id": "e971089d",
   "metadata": {
    "id": "e971089d"
   },
   "source": [
    "#### sort()"
   ]
  },
  {
   "cell_type": "markdown",
   "id": "07adabbb",
   "metadata": {
    "id": "07adabbb"
   },
   "source": [
    "It is always nice to organise your bookshelf. We can sort our collection with the following expression:"
   ]
  },
  {
   "cell_type": "code",
   "execution_count": 58,
   "id": "b60032dd",
   "metadata": {
    "id": "b60032dd"
   },
   "outputs": [
    {
     "name": "stdout",
     "output_type": "stream",
     "text": [
      "['A Clockwork Orange', 'Bel Canto', 'Pride and Prejudice', 'The Hunger games', 'The Shadow of the Wind', 'Water for Elephants']\n"
     ]
    }
   ],
   "source": [
    "good_reads.sort()\n",
    "print(good_reads)"
   ]
  },
  {
   "cell_type": "markdown",
   "id": "ee059e39",
   "metadata": {
    "id": "ee059e39"
   },
   "source": [
    "#### nested lists"
   ]
  },
  {
   "cell_type": "markdown",
   "id": "d4f5cd2d",
   "metadata": {
    "id": "d4f5cd2d"
   },
   "source": [
    "Up to this point, our lists only have consisted of strings. However, a list can contain all kinds of data types, such as integers and even lists! Do you understand what is happening in the following example?"
   ]
  },
  {
   "cell_type": "code",
   "execution_count": 59,
   "id": "9e1a030f",
   "metadata": {
    "id": "9e1a030f"
   },
   "outputs": [
    {
     "name": "stdout",
     "output_type": "stream",
     "text": [
      "[1, 2, 3, 4]\n",
      "1\n"
     ]
    }
   ],
   "source": [
    "nested_list = [[1, 2, 3, 4], [5, 6, 7, 8]]\n",
    "print(nested_list[0])\n",
    "print(nested_list[0][0])"
   ]
  },
  {
   "cell_type": "markdown",
   "id": "3cb72ec6",
   "metadata": {
    "id": "3cb72ec6"
   },
   "source": [
    "We can put this to use to enhance our good read collection with a score for every book we have. An entry in our collection will consist of a score within the range of 1 and 10 and the title of our book. The first element is the title; the second the score: `[title, score]`. We initialize an empty list:"
   ]
  },
  {
   "cell_type": "code",
   "execution_count": 68,
   "id": "e3225f6f",
   "metadata": {
    "id": "e3225f6f"
   },
   "outputs": [],
   "source": [
    "good_reads = []"
   ]
  },
  {
   "cell_type": "markdown",
   "id": "982de828",
   "metadata": {
    "id": "982de828"
   },
   "source": [
    "And add two books to it:"
   ]
  },
  {
   "cell_type": "code",
   "execution_count": 69,
   "id": "1267c269",
   "metadata": {
    "id": "1267c269"
   },
   "outputs": [
    {
     "data": {
      "text/plain": [
       "[['Pride and Prejudice', 8], ['A Clockwork Orange', 9]]"
      ]
     },
     "execution_count": 69,
     "metadata": {},
     "output_type": "execute_result"
    }
   ],
   "source": [
    "good_reads.append([\"Pride and Prejudice\", 8])\n",
    "good_reads.append([\"A Clockwork Orange\", 9])\n",
    "good_reads"
   ]
  },
  {
   "cell_type": "markdown",
   "id": "98fd6886",
   "metadata": {
    "id": "98fd6886"
   },
   "source": [
    "---------"
   ]
  },
  {
   "cell_type": "markdown",
   "id": "5198d764",
   "metadata": {
    "id": "5198d764"
   },
   "source": [
    "#### Quiz!"
   ]
  },
  {
   "cell_type": "markdown",
   "id": "2f7dc170",
   "metadata": {
    "id": "2f7dc170"
   },
   "source": [
    "Update the `good_reads` collection with some of your own books and give them all a score. Can you print out the score you gave to the first book in the list? (Tip: you can pile up indexes)"
   ]
  },
  {
   "cell_type": "code",
   "execution_count": 70,
   "id": "484b3e8f",
   "metadata": {
    "id": "484b3e8f"
   },
   "outputs": [
    {
     "data": {
      "text/plain": [
       "5"
      ]
     },
     "execution_count": 70,
     "metadata": {},
     "output_type": "execute_result"
    }
   ],
   "source": [
    "# insert your code here\n",
    "good_reads = []\n",
    "good_reads.append([\"1984\", 9])\n",
    "good_reads.append([\"Wuthering Heights\", 10])\n",
    "good_reads.append([\"Moby Dick\", 5])\n",
    "good_reads[2][1]"
   ]
  },
  {
   "cell_type": "markdown",
   "id": "66579ae2",
   "metadata": {
    "id": "66579ae2"
   },
   "source": [
    "-----------"
   ]
  },
  {
   "cell_type": "markdown",
   "id": "8cca1c95",
   "metadata": {
    "id": "8cca1c95"
   },
   "source": [
    "##### What we have learnt"
   ]
  },
  {
   "cell_type": "markdown",
   "id": "cef33472",
   "metadata": {
    "id": "cef33472"
   },
   "source": [
    "To finish this section, here is an overview of the new concepts and functions you have learnt. Go through them and make sure you understand them all.\n",
    "\n",
    "-  list\n",
    "-  *mutable* versus *immutable*\n",
    "-  `.split()`\n",
    "-  `.append()`\n",
    "-  nested lists\n",
    "-  `.remove()`\n",
    "-  `.sort()`"
   ]
  },
  {
   "cell_type": "markdown",
   "id": "2392d28b",
   "metadata": {
    "id": "2392d28b"
   },
   "source": [
    "-------------"
   ]
  },
  {
   "cell_type": "markdown",
   "id": "f003dbc5",
   "metadata": {
    "id": "f003dbc5"
   },
   "source": [
    "## Dictionaries"
   ]
  },
  {
   "cell_type": "markdown",
   "id": "f451ea8f",
   "metadata": {
    "id": "f451ea8f"
   },
   "source": [
    "Our little good reads collection is starting to look good and we can perform all kinds of manipulations on it. Now, imagine that our list is large and we would like to look up the score we gave to a particular book. How are we going to find that book? For this purpose Python provides another more appropriate data structure, named `dictionary`. A `dictionary` is similar to the dictionaries you have at home. It consists of entries, or keys, that hold a value. Let's define one:"
   ]
  },
  {
   "cell_type": "code",
   "execution_count": 72,
   "id": "ebcd0d15",
   "metadata": {
    "id": "ebcd0d15"
   },
   "outputs": [
    {
     "data": {
      "text/plain": [
       "{'book': 'physical objects consisting of a number of pages bound together',\n",
       " 'sword': 'a cutting or thrusting weapon that has a long metal blade',\n",
       " 'pie': 'dish baked in pastry-lined pan often with a pastry top'}"
      ]
     },
     "execution_count": 72,
     "metadata": {},
     "output_type": "execute_result"
    }
   ],
   "source": [
    "my_dict = {\"book\": \"physical objects consisting of a number of pages bound together\",\n",
    "           \"sword\": \"a cutting or thrusting weapon that has a long metal blade\",\n",
    "           \"pie\": \"dish baked in pastry-lined pan often with a pastry top\"}\n",
    "my_dict"
   ]
  },
  {
   "cell_type": "markdown",
   "id": "a6f8caac",
   "metadata": {
    "id": "a6f8caac"
   },
   "source": [
    "Take a close look at the new syntax. Notice the curly brackets and the colons. Keys are located at the left side of the colon; values at the right side. To look up the value of a given key, we 'index' the dictionary using that key:"
   ]
  },
  {
   "cell_type": "code",
   "execution_count": 73,
   "id": "5b55fb29",
   "metadata": {
    "id": "5b55fb29"
   },
   "outputs": [
    {
     "name": "stdout",
     "output_type": "stream",
     "text": [
      "a cutting or thrusting weapon that has a long metal blade\n"
     ]
    }
   ],
   "source": [
    "description = my_dict[\"sword\"]\n",
    "print(description)"
   ]
  },
  {
   "cell_type": "markdown",
   "id": "595c7188",
   "metadata": {
    "id": "595c7188"
   },
   "source": [
    "We say 'index', because we use the same syntax with square brackets when indexing lists or strings. The differences is that we don't use a position number to index a dictionary, but a key. Like lists, dictionaries are mutable which means we can add and remove entries from it. Let's define an empty dictionary and add some books to it. The titles will be our keys and the scores their values. Watch the syntax to add a new entry:"
   ]
  },
  {
   "cell_type": "code",
   "execution_count": 33,
   "id": "c883001d",
   "metadata": {
    "id": "c883001d"
   },
   "outputs": [
    {
     "data": {
      "text/plain": [
       "{'Pride and Prejudice': 8, 'A Clockwork Orange': 9}"
      ]
     },
     "execution_count": 33,
     "metadata": {},
     "output_type": "execute_result"
    }
   ],
   "source": [
    "good_reads = {}\n",
    "good_reads[\"Pride and Prejudice\"] = 8\n",
    "good_reads[\"A Clockwork Orange\"] = 9\n",
    "good_reads"
   ]
  },
  {
   "cell_type": "markdown",
   "id": "56be11de",
   "metadata": {
    "id": "56be11de"
   },
   "source": [
    "In a way this is similar to what we have seen before when we altered our book `list`. There we indexed the list using a integer to access a particular book. Here we directly use the title of the book. Can you imagine why this is so useful?"
   ]
  },
  {
   "cell_type": "markdown",
   "id": "0df3a3b7",
   "metadata": {
    "id": "0df3a3b7"
   },
   "source": [
    "--------"
   ]
  },
  {
   "cell_type": "markdown",
   "id": "b52bd364",
   "metadata": {
    "id": "b52bd364"
   },
   "source": [
    "#### Quiz!"
   ]
  },
  {
   "cell_type": "markdown",
   "id": "068b0fbf",
   "metadata": {
    "id": "068b0fbf"
   },
   "source": [
    "Update the new good reads datastructure with your own books. Try to print out the score you gave for one of the books."
   ]
  },
  {
   "cell_type": "code",
   "execution_count": 34,
   "id": "3d10537f",
   "metadata": {
    "id": "3d10537f"
   },
   "outputs": [
    {
     "data": {
      "text/plain": [
       "{'1984': 9, 'Wuthering Heights': 10, 'Moby Dick': 5}"
      ]
     },
     "execution_count": 34,
     "metadata": {},
     "output_type": "execute_result"
    }
   ],
   "source": [
    "# insert your code here\n",
    "good_reads = {}\n",
    "good_reads[\"1984\"] = 9\n",
    "good_reads[\"Wuthering Heights\"] = 10\n",
    "good_reads[\"Moby Dick\"] = 5\n",
    "good_reads"
   ]
  },
  {
   "cell_type": "code",
   "execution_count": 81,
   "id": "71aa83e3-3aff-48d5-86cb-303cbb14df3d",
   "metadata": {
    "id": "3d10537f"
   },
   "outputs": [
    {
     "data": {
      "text/plain": [
       "5"
      ]
     },
     "execution_count": 81,
     "metadata": {},
     "output_type": "execute_result"
    }
   ],
   "source": [
    "# insert your code here\n",
    "good_reads = {}\n",
    "good_reads[\"1984\"] = 9\n",
    "good_reads[\"Wuthering Heights\"] = 10\n",
    "good_reads[\"Moby Dick\"] = 5\n",
    "good_reads[\"Moby Dick\"]"
   ]
  },
  {
   "cell_type": "markdown",
   "id": "77594bdf",
   "metadata": {
    "id": "77594bdf"
   },
   "source": [
    "----------"
   ]
  },
  {
   "cell_type": "markdown",
   "id": "108449c3",
   "metadata": {
    "id": "108449c3"
   },
   "source": [
    "#### keys(), values()"
   ]
  },
  {
   "cell_type": "markdown",
   "id": "1cc647dd",
   "metadata": {
    "id": "1cc647dd"
   },
   "source": [
    "To retrieve a list of all the books we have in our collection, we can ask the dictionary to return its keys as a list:"
   ]
  },
  {
   "cell_type": "code",
   "execution_count": 78,
   "id": "f107df66",
   "metadata": {
    "id": "f107df66"
   },
   "outputs": [
    {
     "data": {
      "text/plain": [
       "dict_keys(['1984', 'Wuthering Heights', 'Moby Dick'])"
      ]
     },
     "execution_count": 78,
     "metadata": {},
     "output_type": "execute_result"
    }
   ],
   "source": [
    "good_reads.keys()"
   ]
  },
  {
   "cell_type": "markdown",
   "id": "c8d76d1c",
   "metadata": {
    "id": "c8d76d1c"
   },
   "source": [
    "Similarly we can ask for the values:"
   ]
  },
  {
   "cell_type": "code",
   "execution_count": 79,
   "id": "97ffe305",
   "metadata": {
    "id": "97ffe305"
   },
   "outputs": [
    {
     "data": {
      "text/plain": [
       "dict_values([9, 10, 5])"
      ]
     },
     "execution_count": 79,
     "metadata": {},
     "output_type": "execute_result"
    }
   ],
   "source": [
    "good_reads.values()"
   ]
  },
  {
   "cell_type": "markdown",
   "id": "e1cda74b",
   "metadata": {
    "id": "e1cda74b"
   },
   "source": [
    "---------"
   ]
  },
  {
   "cell_type": "markdown",
   "id": "a751a9b4",
   "metadata": {
    "id": "a751a9b4"
   },
   "source": [
    "##### What we have learnt"
   ]
  },
  {
   "cell_type": "markdown",
   "id": "d582124b",
   "metadata": {
    "id": "d582124b"
   },
   "source": [
    "To finish this section, here is an overview of the new concepts and functions you have learnt. Make sure you understand them all.\n",
    "\n",
    "-  dictionary\n",
    "-  indexing or accessing keys of dictionaries\n",
    "-  adding items to a dictionary\n",
    "-  `.keys()`\n",
    "-  `.values()`"
   ]
  },
  {
   "cell_type": "markdown",
   "id": "28277a0f",
   "metadata": {
    "id": "28277a0f"
   },
   "source": [
    "--------"
   ]
  },
  {
   "cell_type": "markdown",
   "id": "867c85d6",
   "metadata": {
    "id": "867c85d6"
   },
   "source": [
    "## Conditions"
   ]
  },
  {
   "cell_type": "markdown",
   "id": "6cd702c9",
   "metadata": {
    "id": "6cd702c9"
   },
   "source": [
    "### Simple conditions"
   ]
  },
  {
   "cell_type": "markdown",
   "id": "cf7d9316",
   "metadata": {
    "id": "cf7d9316"
   },
   "source": [
    "A lot of programming has to do with executing a certain piece of code if a particular condition holds. We have already seen two conditions at the very beginning of the chapter. Here we give a brief overview. Can you figure our what all of the conditions do?"
   ]
  },
  {
   "cell_type": "code",
   "execution_count": 80,
   "id": "7b22c66c",
   "metadata": {
    "id": "7b22c66c"
   },
   "outputs": [
    {
     "name": "stdout",
     "output_type": "stream",
     "text": [
      "2 < 5 = True\n",
      "3 > 7 = False\n",
      "3 == 4 = False\n",
      "school == homework = False\n",
      "Python != perl = True\n"
     ]
    }
   ],
   "source": [
    "print(\"2 < 5 =\", 2 < 5)\n",
    "print(\"3 > 7 =\", 3 >= 7)\n",
    "print(\"3 == 4 =\", 3 == 4)\n",
    "print(\"school == homework =\", \"school\" == \"homework\")\n",
    "print(\"Python != perl =\", \"Python\" != \"perl\")"
   ]
  },
  {
   "cell_type": "markdown",
   "id": "605049fa",
   "metadata": {
    "id": "605049fa"
   },
   "source": [
    "### if, elif and else"
   ]
  },
  {
   "cell_type": "markdown",
   "id": "28d5e72b",
   "metadata": {
    "id": "28d5e72b"
   },
   "source": [
    "The dictionary is a much better data structure for our good reads collections. However, even with dictionaries we might forget which books we added to the collection. What happens if we try to get the score of a book that is not in our collection (and hopefully never will be...)?"
   ]
  },
  {
   "cell_type": "code",
   "execution_count": 82,
   "id": "4e0efdff",
   "metadata": {
    "id": "4e0efdff"
   },
   "outputs": [
    {
     "ename": "KeyError",
     "evalue": "\"Folgert's awesomeness\"",
     "output_type": "error",
     "traceback": [
      "\u001b[31m---------------------------------------------------------------------------\u001b[39m",
      "\u001b[31mKeyError\u001b[39m                                  Traceback (most recent call last)",
      "\u001b[36mCell\u001b[39m\u001b[36m \u001b[39m\u001b[32mIn[82]\u001b[39m\u001b[32m, line 1\u001b[39m\n\u001b[32m----> \u001b[39m\u001b[32m1\u001b[39m good_reads[\u001b[33m\"\u001b[39m\u001b[33mFolgert\u001b[39m\u001b[33m'\u001b[39m\u001b[33ms awesomeness\u001b[39m\u001b[33m\"\u001b[39m]\n",
      "\u001b[31mKeyError\u001b[39m: \"Folgert's awesomeness\""
     ]
    }
   ],
   "source": [
    "good_reads[\"Folgert's awesomeness\"]"
   ]
  },
  {
   "cell_type": "markdown",
   "id": "d6440f63",
   "metadata": {
    "id": "d6440f63"
   },
   "source": [
    "We get an error. A `KeyError`, which basically means \"the key you asked me to look up is not in the dictionary\". We will learn a lot more about error handling later, but for now we would like to prevent our program from giving it in the first place. Let's write a little program that prints \"X is in the collection\" if a particular book is in the collection and \"X is NOT in the collection\" if it is not."
   ]
  },
  {
   "cell_type": "code",
   "execution_count": 83,
   "id": "86f641eb",
   "metadata": {
    "id": "86f641eb"
   },
   "outputs": [
    {
     "name": "stdout",
     "output_type": "stream",
     "text": [
      "A Clockwork Orange is NOT in the collection\n"
     ]
    }
   ],
   "source": [
    "book = \"A Clockwork Orange\"\n",
    "if book in good_reads:\n",
    "    print(book + \" is in the collection\")\n",
    "    print(\"A lot more\")\n",
    "    print(\"Still more to come\")\n",
    "else:\n",
    "    print(book + \" is NOT in the collection\")"
   ]
  },
  {
   "cell_type": "markdown",
   "id": "7fae660d",
   "metadata": {
    "id": "7fae660d"
   },
   "source": [
    "A lot of new syntax here. Let's go through it step by step. First we ask if the value we assigned to `book` is in our collection. The part after `if` evaluates to either `True` or to `False`. Let's type that in:"
   ]
  },
  {
   "cell_type": "code",
   "execution_count": 84,
   "id": "c38243d9",
   "metadata": {
    "id": "c38243d9"
   },
   "outputs": [
    {
     "data": {
      "text/plain": [
       "False"
      ]
     },
     "execution_count": 84,
     "metadata": {},
     "output_type": "execute_result"
    }
   ],
   "source": [
    "book in good_reads"
   ]
  },
  {
   "cell_type": "markdown",
   "id": "2811317a",
   "metadata": {
    "id": "2811317a"
   },
   "source": [
    "Because our book is not in the collection, Python returns `False`. Let's do the same thing for a book that we know is in the collection:"
   ]
  },
  {
   "cell_type": "code",
   "execution_count": 85,
   "id": "f4e58315",
   "metadata": {
    "id": "f4e58315"
   },
   "outputs": [
    {
     "data": {
      "text/plain": [
       "False"
      ]
     },
     "execution_count": 85,
     "metadata": {},
     "output_type": "execute_result"
    }
   ],
   "source": [
    "\"A Clockwork Orange\" in good_reads"
   ]
  },
  {
   "cell_type": "markdown",
   "id": "ee7f8672",
   "metadata": {
    "id": "ee7f8672"
   },
   "source": [
    "Indeed, it is in the collection. Back to our `if` statement. If the expression after `if` evaluates to `True`, our program will go on to the next line and print `book + \" is in the collection\"`. Let's try that as well:"
   ]
  },
  {
   "cell_type": "code",
   "execution_count": 86,
   "id": "e00af3c1",
   "metadata": {
    "id": "e00af3c1"
   },
   "outputs": [],
   "source": [
    "if \"A Clockwork Orange\" in good_reads:\n",
    "    print(\"Found it!\")"
   ]
  },
  {
   "cell_type": "code",
   "execution_count": 88,
   "id": "a40d08a5",
   "metadata": {
    "id": "a40d08a5"
   },
   "outputs": [],
   "source": [
    "if book in good_reads:\n",
    "    print(\"Found it!\")"
   ]
  },
  {
   "cell_type": "markdown",
   "id": "ab898cbb",
   "metadata": {
    "id": "ab898cbb"
   },
   "source": [
    "Notice that the print statement in the last code block is not executed. That is because the value we assigned to `book` is not in our collection and thus the part after `if` did not evaluate to `True`. In our little program above we used another statement besides `if`, namely `else`. It shouldn't be too hard to figure out what's going on here. The part after `else` will be executed if the `if` statement evaluated to `False`. In English: if the book is not in the collection, print that it is not."
   ]
  },
  {
   "cell_type": "markdown",
   "id": "084ef82c",
   "metadata": {
    "id": "084ef82c"
   },
   "source": [
    "#### Indentation!"
   ]
  },
  {
   "cell_type": "markdown",
   "id": "7523f103",
   "metadata": {
    "id": "7523f103"
   },
   "source": [
    "Before we continue, we must first explain to you that the layout of our code is not optional. Unlike in other languages, Python does not make use of curly braces to mark the start and end of expressions. The only delimiter is a colon (`:`) and the indentation of the code. This indentation must be used consistently throughout your code. The convention is to use 4 spaces as indentation. This means that after you have used a colon (such as in our `if` statement) the next line should be indented by four spaces more than the previous line."
   ]
  },
  {
   "cell_type": "markdown",
   "id": "ea068b01",
   "metadata": {
    "id": "ea068b01"
   },
   "source": [
    "Sometimes we have various conditions that should all evaluate to something different. For that Python provides the `elif` statement. We use it similar to `if` and `else`. Note however that you can only use `elif` after an `if` statement! Above we asked whether a book was in the collection. We can do the same thing for parts of strings or for items in a list. For example we could test whether the letter *a* is in the word *banana*:"
   ]
  },
  {
   "cell_type": "code",
   "execution_count": 1,
   "id": "7051ff93",
   "metadata": {
    "id": "7051ff93"
   },
   "outputs": [
    {
     "data": {
      "text/plain": [
       "True"
      ]
     },
     "execution_count": 1,
     "metadata": {},
     "output_type": "execute_result"
    }
   ],
   "source": [
    "\"a\" in \"banana\""
   ]
  },
  {
   "cell_type": "markdown",
   "id": "a4b99c8e",
   "metadata": {
    "id": "a4b99c8e"
   },
   "source": [
    "Likewise the following evaluates to `False`:"
   ]
  },
  {
   "cell_type": "code",
   "execution_count": 2,
   "id": "49858167",
   "metadata": {
    "id": "49858167"
   },
   "outputs": [
    {
     "data": {
      "text/plain": [
       "False"
      ]
     },
     "execution_count": 2,
     "metadata": {},
     "output_type": "execute_result"
    }
   ],
   "source": [
    "\"z\" in \"banana\""
   ]
  },
  {
   "cell_type": "markdown",
   "id": "514d25cc",
   "metadata": {
    "id": "514d25cc"
   },
   "source": [
    "Let's use this in an `if-elif-else` combination:"
   ]
  },
  {
   "cell_type": "code",
   "execution_count": 3,
   "id": "f39f4c7c",
   "metadata": {
    "id": "f39f4c7c"
   },
   "outputs": [
    {
     "name": "stdout",
     "output_type": "stream",
     "text": [
      "rocket science contains the letter s\n"
     ]
    }
   ],
   "source": [
    "word = \"rocket science\"\n",
    "if \"a\" in word:\n",
    "    print(word + \" contains the letter a\")\n",
    "elif \"s\" in word:\n",
    "    print(word + \" contains the letter s\")\n",
    "else:\n",
    "    print(\"What a weird word!\")"
   ]
  },
  {
   "cell_type": "markdown",
   "id": "4d58c69a",
   "metadata": {
    "id": "4d58c69a"
   },
   "source": [
    "--------"
   ]
  },
  {
   "cell_type": "markdown",
   "id": "7b60fe18",
   "metadata": {
    "id": "7b60fe18"
   },
   "source": [
    "#### Quiz!"
   ]
  },
  {
   "cell_type": "markdown",
   "id": "7a51f779",
   "metadata": {
    "id": "7a51f779"
   },
   "source": [
    "Let's practice our new condition skills a little. Write a small program that defines a variable `weight`. If the weight is > 50 pounds, print \"There is a $25 charge for luggage that heavy.\" If it is not, print: \"Thank you for your business.\" Change the value of weight to see both statements. (Tip: make use of the `<` or `>` operators)"
   ]
  },
  {
   "cell_type": "code",
   "execution_count": 5,
   "id": "55f621ae",
   "metadata": {
    "id": "55f621ae"
   },
   "outputs": [
    {
     "name": "stdout",
     "output_type": "stream",
     "text": [
      "Thank you for your business.\n"
     ]
    }
   ],
   "source": [
    "# insert your code here\n",
    "weight = 40\n",
    "if weight > 50:\n",
    "    print(\"There is a $25 charge for luggage that heavy.\")\n",
    "else:\n",
    "    print(\"Thank you for your business.\")"
   ]
  },
  {
   "cell_type": "markdown",
   "id": "810004f4",
   "metadata": {
    "id": "810004f4"
   },
   "source": [
    "-------"
   ]
  },
  {
   "cell_type": "markdown",
   "id": "9e9d459f",
   "metadata": {
    "id": "9e9d459f"
   },
   "source": [
    "### and, or, not"
   ]
  },
  {
   "cell_type": "markdown",
   "id": "0e79b774",
   "metadata": {
    "id": "0e79b774"
   },
   "source": [
    "Up to this point, our conditions have consisted of single expresssions. However, quite often we would like to test for multiple conditions and then execute a particular piece of code. Python provides a number of ways to do that. The first is with the `and` statement. `and` allows us to juxtapose two expressions that need to be true in order to make the entire expression evaluate to `True`. Let's see how that works:"
   ]
  },
  {
   "cell_type": "code",
   "execution_count": 6,
   "id": "b599d4aa",
   "metadata": {
    "id": "b599d4aa"
   },
   "outputs": [
    {
     "name": "stdout",
     "output_type": "stream",
     "text": [
      "Both a and b are in banana\n"
     ]
    }
   ],
   "source": [
    "word = \"banana\"\n",
    "if \"a\" in word and \"b\" in word:\n",
    "    print(\"Both a and b are in \" + word)"
   ]
  },
  {
   "cell_type": "markdown",
   "id": "937dc731",
   "metadata": {
    "id": "937dc731"
   },
   "source": [
    "If one of the expressions evaluates to False, nothing will be printed:"
   ]
  },
  {
   "cell_type": "code",
   "execution_count": 7,
   "id": "444f7135",
   "metadata": {
    "id": "444f7135"
   },
   "outputs": [],
   "source": [
    "if \"a\" in word and \"z\" in word:\n",
    "    print(\"Both a and z are in \" + word)"
   ]
  },
  {
   "cell_type": "markdown",
   "id": "c0d805b9",
   "metadata": {
    "id": "c0d805b9"
   },
   "source": [
    "-------"
   ]
  },
  {
   "cell_type": "markdown",
   "id": "6e0ac825",
   "metadata": {
    "id": "6e0ac825"
   },
   "source": [
    "#### Quiz!"
   ]
  },
  {
   "cell_type": "markdown",
   "id": "e73d8813",
   "metadata": {
    "id": "e73d8813"
   },
   "source": [
    "Replace `and` with `or` in the `if` statement below. What happens?"
   ]
  },
  {
   "cell_type": "code",
   "execution_count": 8,
   "id": "eca7c27c",
   "metadata": {
    "id": "eca7c27c"
   },
   "outputs": [],
   "source": [
    "word = \"banana\"\n",
    "if \"a\" in word and \"z\" in word:\n",
    "    print(\"Both a and b are in \" + word)"
   ]
  },
  {
   "cell_type": "code",
   "execution_count": 9,
   "id": "cdf17524-18ac-4738-981d-ea43da9e014b",
   "metadata": {
    "id": "eca7c27c"
   },
   "outputs": [
    {
     "name": "stdout",
     "output_type": "stream",
     "text": [
      "Both a and b are in banana\n"
     ]
    }
   ],
   "source": [
    "word = \"banana\"\n",
    "if \"a\" in word or \"z\" in word:\n",
    "    print(\"Both a and b are in \" + word)"
   ]
  },
  {
   "cell_type": "markdown",
   "id": "7fe8a298",
   "metadata": {
    "id": "7fe8a298"
   },
   "source": [
    "In the code block below, can you add an `else` statement that prints that none of the letters were found?"
   ]
  },
  {
   "cell_type": "code",
   "execution_count": 12,
   "id": "af2ed072",
   "metadata": {
    "id": "af2ed072"
   },
   "outputs": [
    {
     "name": "stdout",
     "output_type": "stream",
     "text": [
      "Both a and z are in banana\n"
     ]
    }
   ],
   "source": [
    "# insert your code here\n",
    "if \"a\" in word and \"z\" in word:\n",
    "    print(\"Both a and z are in \" + word)\n",
    "else:\n",
    "    print(\"At least one of the letters is missing.\")"
   ]
  },
  {
   "cell_type": "markdown",
   "id": "947e1349",
   "metadata": {
    "id": "947e1349"
   },
   "source": [
    "----------"
   ]
  },
  {
   "cell_type": "markdown",
   "id": "0a551faf",
   "metadata": {
    "id": "0a551faf"
   },
   "source": [
    "Finally we can use `not` to test for conditions that are not true."
   ]
  },
  {
   "cell_type": "code",
   "execution_count": 13,
   "id": "cb2a8d3f",
   "metadata": {
    "id": "cb2a8d3f"
   },
   "outputs": [
    {
     "name": "stdout",
     "output_type": "stream",
     "text": [
      "z is not in banana\n"
     ]
    }
   ],
   "source": [
    "if \"z\" not in word:\n",
    "    print(\"z is not in \" + word)"
   ]
  },
  {
   "cell_type": "markdown",
   "id": "4ce6c1c6",
   "metadata": {
    "id": "4ce6c1c6"
   },
   "source": [
    "Objects, such as strings or integers of lists are `True` because they exist. Empty strings, lists, dictionaries etc on the other hand are `False` because in a way they do *not* exist. We can use this principle to, for example, only execute a piece of code if a certain list contains any values:"
   ]
  },
  {
   "cell_type": "code",
   "execution_count": 14,
   "id": "b777930e",
   "metadata": {
    "id": "b777930e"
   },
   "outputs": [
    {
     "name": "stdout",
     "output_type": "stream",
     "text": [
      "I found some numbers!\n"
     ]
    }
   ],
   "source": [
    "numbers = [1, 2, 3, 4]\n",
    "if numbers:\n",
    "    print(\"I found some numbers!\")"
   ]
  },
  {
   "cell_type": "markdown",
   "id": "c3a527db",
   "metadata": {
    "id": "c3a527db"
   },
   "source": [
    "Now if our list were empty, Python wouldn't print anything:"
   ]
  },
  {
   "cell_type": "code",
   "execution_count": 15,
   "id": "1f3d68c0",
   "metadata": {
    "id": "1f3d68c0"
   },
   "outputs": [],
   "source": [
    "numbers = []\n",
    "if numbers:\n",
    "    print(\"I found some numbers!\")"
   ]
  },
  {
   "cell_type": "markdown",
   "id": "3d0c076d",
   "metadata": {
    "id": "3d0c076d"
   },
   "source": [
    "--------"
   ]
  },
  {
   "cell_type": "markdown",
   "id": "c031917e",
   "metadata": {
    "id": "c031917e"
   },
   "source": [
    "#### Quiz!"
   ]
  },
  {
   "cell_type": "markdown",
   "id": "c0bd1bf6",
   "metadata": {
    "id": "c0bd1bf6"
   },
   "source": [
    "Can you write code that prints \"This is an empty list\" if the provided list does not contain any values?"
   ]
  },
  {
   "cell_type": "code",
   "execution_count": 18,
   "id": "ce74abbb",
   "metadata": {
    "id": "ce74abbb"
   },
   "outputs": [
    {
     "name": "stdout",
     "output_type": "stream",
     "text": [
      "This is an empty list.\n"
     ]
    }
   ],
   "source": [
    "# insert your code here\n",
    "numbers = [1]\n",
    "if not numbers:\n",
    "    print(\"This is an empty list.\")"
   ]
  },
  {
   "cell_type": "markdown",
   "id": "6bf315a0",
   "metadata": {
    "id": "6bf315a0"
   },
   "source": [
    "Can you do the same thing, but this time using the function `len()`?"
   ]
  },
  {
   "cell_type": "code",
   "execution_count": 25,
   "id": "646e8eb3",
   "metadata": {
    "id": "646e8eb3"
   },
   "outputs": [
    {
     "name": "stdout",
     "output_type": "stream",
     "text": [
      "This is an empty list.\n"
     ]
    }
   ],
   "source": [
    "# insert your code here\n",
    "numbers = []\n",
    "if len(numbers) == 0:\n",
    "    print(\"This is an empty list.\")"
   ]
  },
  {
   "cell_type": "code",
   "execution_count": 28,
   "id": "046d1956-0adb-4dcd-a40f-327d7e8cb4f5",
   "metadata": {},
   "outputs": [
    {
     "data": {
      "text/plain": [
       "2"
      ]
     },
     "execution_count": 28,
     "metadata": {},
     "output_type": "execute_result"
    }
   ],
   "source": [
    "word_list = [\"Bom\", \"dia\"]\n",
    "len(word_list)"
   ]
  },
  {
   "cell_type": "markdown",
   "id": "2dc3bca2",
   "metadata": {
    "id": "2dc3bca2"
   },
   "source": [
    "-----------"
   ]
  },
  {
   "cell_type": "markdown",
   "id": "1bc7b27d",
   "metadata": {
    "id": "1bc7b27d"
   },
   "source": [
    "##### What we have learnt"
   ]
  },
  {
   "cell_type": "markdown",
   "id": "2891c005",
   "metadata": {
    "id": "2891c005"
   },
   "source": [
    "To finish this section, here is an overview of the new functions, statements and concepts we have learnt. Go through them and make sure you understand what their purpose is and how they are used.\n",
    "\n",
    "-  conditions\n",
    "-  indentation\n",
    "-  `if`\n",
    "-  `elif`\n",
    "-  `else`\n",
    "-  `True`\n",
    "-  `False`\n",
    "-  empty objects are false\n",
    "-  `not`\n",
    "-  `in`\n",
    "-  `and`\n",
    "-  `or`\n",
    "-  multiple conditions\n",
    "-  `==`\n",
    "-  `<`\n",
    "-  `>`\n",
    "-  `!=`\n",
    "-  `KeyError`"
   ]
  },
  {
   "cell_type": "markdown",
   "id": "4fb9af1e",
   "metadata": {
    "id": "4fb9af1e"
   },
   "source": [
    "---------"
   ]
  },
  {
   "cell_type": "markdown",
   "id": "1190a5aa",
   "metadata": {
    "id": "1190a5aa"
   },
   "source": [
    "## Loops"
   ]
  },
  {
   "cell_type": "markdown",
   "id": "2e6a6782",
   "metadata": {
    "id": "2e6a6782"
   },
   "source": [
    "Programming is most useful if we can perform a certain action on a range of different elements. For example, given a list of words, we would like to know the length of all words, not just one. Now you *could* do this by going through all the indexes of a list of words and print the length of the words one at a time, taking up as many lines of code as you have indices. Needless to say, this is rather cumbersome.\n",
    "\n",
    "Python provides the so-called `for`-statements that allow us to iterate through any iterable object and perform actions on its elements. The basic format of a `for`-statement is:\n",
    "\n",
    "    for X in iterable:\n",
    "\n",
    "That reads almost like English. We can print all letters of the word *banana* as follows:"
   ]
  },
  {
   "cell_type": "code",
   "execution_count": 29,
   "id": "26abd81c",
   "metadata": {
    "id": "26abd81c"
   },
   "outputs": [
    {
     "name": "stdout",
     "output_type": "stream",
     "text": [
      "b\n",
      "a\n",
      "n\n",
      "a\n",
      "n\n",
      "a\n"
     ]
    }
   ],
   "source": [
    "for letter in \"banana\":\n",
    "    print(letter)"
   ]
  },
  {
   "cell_type": "markdown",
   "id": "106b1ea1",
   "metadata": {
    "id": "106b1ea1"
   },
   "source": [
    "The code in the loop is executed as many times as their are letters, with a different value for the variable `letter` at each iteration. Read the previous sentence again."
   ]
  },
  {
   "cell_type": "markdown",
   "id": "ede3b0ab",
   "metadata": {
    "id": "ede3b0ab"
   },
   "source": [
    "Likewise we can print all the items that are contained in a list:"
   ]
  },
  {
   "cell_type": "code",
   "execution_count": 31,
   "id": "4d7a01c5",
   "metadata": {
    "id": "4d7a01c5"
   },
   "outputs": [
    {
     "name": "stdout",
     "output_type": "stream",
     "text": [
      "This is color yellow\n",
      "This is color red\n",
      "This is color green\n",
      "This is color blue\n",
      "This is color purple\n"
     ]
    }
   ],
   "source": [
    "colors = [\"yellow\", \"red\", \"green\", \"blue\", \"purple\"]\n",
    "for whatever in colors:\n",
    "    print(\"This is color \" + whatever)"
   ]
  },
  {
   "cell_type": "markdown",
   "id": "37827297",
   "metadata": {
    "id": "37827297"
   },
   "source": [
    "Since dictionaries are iterable objects as well, we can iterate through our good reads collection as well. This will iterate over the *keys* of a dictionary:"
   ]
  },
  {
   "cell_type": "code",
   "execution_count": 35,
   "id": "e4454136",
   "metadata": {
    "id": "e4454136"
   },
   "outputs": [
    {
     "name": "stdout",
     "output_type": "stream",
     "text": [
      "1984\n",
      "Wuthering Heights\n",
      "Moby Dick\n"
     ]
    }
   ],
   "source": [
    "for book in good_reads:\n",
    "    print(book)"
   ]
  },
  {
   "cell_type": "markdown",
   "id": "72b5f55e",
   "metadata": {
    "id": "72b5f55e"
   },
   "source": [
    "We can also iterate over both the keys and the values of a dictionary, this is done as follows:"
   ]
  },
  {
   "cell_type": "code",
   "execution_count": 36,
   "id": "519681c8",
   "metadata": {
    "id": "519681c8"
   },
   "outputs": [
    {
     "data": {
      "text/plain": [
       "dict_items([('1984', 9), ('Wuthering Heights', 10), ('Moby Dick', 5)])"
      ]
     },
     "execution_count": 36,
     "metadata": {},
     "output_type": "execute_result"
    }
   ],
   "source": [
    "good_reads.items()"
   ]
  },
  {
   "cell_type": "code",
   "execution_count": 37,
   "id": "450a480f",
   "metadata": {
    "id": "450a480f"
   },
   "outputs": [
    {
     "name": "stdout",
     "output_type": "stream",
     "text": [
      "1984 has score 9\n",
      "Wuthering Heights has score 10\n",
      "Moby Dick has score 5\n"
     ]
    }
   ],
   "source": [
    "for x, y in good_reads.items():\n",
    "    print(x + \" has score \" + str(y))"
   ]
  },
  {
   "cell_type": "markdown",
   "id": "e33a387e",
   "metadata": {
    "id": "e33a387e"
   },
   "source": [
    "Using `items()` will, at each iteration, return a nice pair of the key and the value. In the example above the variable `book` will loop over the keys of the dictionary, and the variable `score` loops over the respective values.\n",
    "\n",
    "The above way is the most elegant way of looping over dictionaries, but try to see if you understand the following alternative as well:"
   ]
  },
  {
   "cell_type": "code",
   "execution_count": 38,
   "id": "55f3e97e",
   "metadata": {
    "id": "55f3e97e"
   },
   "outputs": [
    {
     "name": "stdout",
     "output_type": "stream",
     "text": [
      "1984 has score 9\n",
      "Wuthering Heights has score 10\n",
      "Moby Dick has score 5\n"
     ]
    }
   ],
   "source": [
    "for book in good_reads:\n",
    "    print(book, \"has score\", good_reads[book])"
   ]
  },
  {
   "cell_type": "markdown",
   "id": "7c24dfee",
   "metadata": {
    "id": "7c24dfee"
   },
   "source": [
    "-------"
   ]
  },
  {
   "cell_type": "markdown",
   "id": "f4c45132",
   "metadata": {
    "id": "f4c45132"
   },
   "source": [
    "#### Quiz!"
   ]
  },
  {
   "cell_type": "markdown",
   "id": "5bce5086",
   "metadata": {
    "id": "5bce5086"
   },
   "source": [
    "The function `len()` returns the length of an iterable item:"
   ]
  },
  {
   "cell_type": "code",
   "execution_count": 39,
   "id": "13f0a5d7",
   "metadata": {
    "id": "13f0a5d7"
   },
   "outputs": [
    {
     "data": {
      "text/plain": [
       "6"
      ]
     },
     "execution_count": 39,
     "metadata": {},
     "output_type": "execute_result"
    }
   ],
   "source": [
    "len(\"banana\")"
   ]
  },
  {
   "cell_type": "markdown",
   "id": "45f1e99e",
   "metadata": {
    "id": "45f1e99e"
   },
   "source": [
    "We can use this function to print the length of each word in the color list. Write your code in the box below:"
   ]
  },
  {
   "cell_type": "code",
   "execution_count": 50,
   "id": "4e57d988",
   "metadata": {
    "id": "4e57d988"
   },
   "outputs": [
    {
     "name": "stdout",
     "output_type": "stream",
     "text": [
      "The length of yellow is 6.\n",
      "The length of red is 3.\n",
      "The length of green is 5.\n",
      "The length of blue is 4.\n",
      "The length of purple is 6.\n"
     ]
    }
   ],
   "source": [
    "colors = [\"yellow\", \"red\", \"green\", \"blue\", \"purple\"]\n",
    "# insert your code here\n",
    "for whatever in colors:\n",
    "    print(\"The length of \" + whatever + \" is \" + str(len(whatever)) + \".\")"
   ]
  },
  {
   "cell_type": "markdown",
   "id": "bf6338fd",
   "metadata": {
    "id": "bf6338fd"
   },
   "source": [
    "Now write a small program that iterates through the list `colors` and `appends` all colors that contain the letter *r* to the list `colors_with_r`. (Tip: use `colors_with_r.append`)"
   ]
  },
  {
   "cell_type": "code",
   "execution_count": 59,
   "id": "510a8646",
   "metadata": {
    "id": "510a8646"
   },
   "outputs": [
    {
     "name": "stdout",
     "output_type": "stream",
     "text": [
      "['red', 'green', 'purple']\n"
     ]
    }
   ],
   "source": [
    "colors = [\"yellow\", \"red\", \"green\", \"blue\", \"purple\"]\n",
    "colors_with_r = []\n",
    "# insert you code here\n",
    "for color in colors:\n",
    "    if \"r\" in color:\n",
    "        colors_with_r.append(color)\n",
    "print(colors_with_r)"
   ]
  },
  {
   "cell_type": "markdown",
   "id": "94ab9042",
   "metadata": {
    "id": "94ab9042"
   },
   "source": [
    "-----------"
   ]
  },
  {
   "cell_type": "markdown",
   "id": "b30db224",
   "metadata": {
    "id": "b30db224"
   },
   "source": [
    "##### What we have learnt"
   ]
  },
  {
   "cell_type": "markdown",
   "id": "810d7604",
   "metadata": {
    "id": "810d7604"
   },
   "source": [
    "Here is an overview of the new concepts, statements and functions we have learnt in this section. Again, go through the list and make sure you understand them all.\n",
    "\n",
    "-  loop\n",
    "-  `for` statement\n",
    "-  iterable objects\n",
    "-  variable assignment in a `for` loop"
   ]
  },
  {
   "cell_type": "markdown",
   "id": "5f7531c5",
   "metadata": {
    "id": "5f7531c5"
   },
   "source": [
    "--------"
   ]
  },
  {
   "cell_type": "markdown",
   "id": "7566c4b5",
   "metadata": {
    "id": "7566c4b5"
   },
   "source": [
    "#### Final Quiz!"
   ]
  },
  {
   "cell_type": "markdown",
   "id": "635961bd",
   "metadata": {
    "id": "635961bd"
   },
   "source": [
    "We have covered a lot of ground. Now it is time to put all what we learned together. The following quiz might be quite hard and we would be very impressed if you get it right!\n",
    "\n",
    "What we want you to do is write code that counts the number of word tokens in which the letter *a* is present in a small corpus. You need to do this on the basis of a frequency distribution of words that is represented by a dictionary. In this dictionary `frequency_distribution`, keys are words and values are the frequencies. Assign your value to the variable `number_of_as`."
   ]
  },
  {
   "cell_type": "code",
   "execution_count": 61,
   "id": "9601b68a",
   "metadata": {
    "id": "9601b68a"
   },
   "outputs": [
    {
     "name": "stdout",
     "output_type": "stream",
     "text": [
      "42\n"
     ]
    }
   ],
   "source": [
    "frequency_distribution = {\"Beg\": 1, \"Goddard's\": 1, \"I\": 3, \"them\": 2, \"absent\": 1, \"already\": 1,\n",
    "                          \"alteration\": 1, \"amazement\": 2, \"appeared\": 1, \"apprehensively\": 1,\n",
    "                          \"associations\": 1, 'clever': 1, 'clock': 1, 'composedly': 1,\n",
    "                          'deeply': 7, 'do': 7, 'encouragement': 1, 'entrapped': 1,\n",
    "                          'expressed': 1, 'flatterers': 1, 'following': 12, 'gone': 9,\n",
    "                          'happening': 4, 'hero': 2, 'housekeeper': 1, 'ingratitude': 1,\n",
    "                          'like': 1, 'marriage': 15, 'not': 25, 'opportunities': 1,\n",
    "                          'outgrown': 1, 'playfully': 2, 'remain': 1, 'required': 2,\n",
    "                          'ripening': 1, 'slippery': 1, 'touch': 1, 'twenty-five': 1,\n",
    "                          'ungracious': 2, 'unwell': 1, 'verses': 1, 'yards': 5}\n",
    "number_of_as = 0\n",
    "# insert your code here\n",
    "for word, frequency in frequency_distribution.items():\n",
    "    if \"a\" in word:\n",
    "        number_of_as += frequency\n",
    "print(number_of_as)"
   ]
  },
  {
   "cell_type": "markdown",
   "id": "6f9c0999",
   "metadata": {
    "id": "6f9c0999"
   },
   "source": [
    "-------"
   ]
  },
  {
   "cell_type": "markdown",
   "id": "3970aeaf",
   "metadata": {
    "id": "3970aeaf"
   },
   "source": [
    "You've reached the end of the chapter. Ignore the code below, it's just here to make the page pretty:"
   ]
  },
  {
   "cell_type": "code",
   "execution_count": null,
   "id": "a8de402f",
   "metadata": {
    "id": "a8de402f",
    "outputId": "25db3a4f-f412-4d60-c3b1-30e785ffae23"
   },
   "outputs": [
    {
     "data": {
      "text/html": [
       "/*\n",
       "Placeholder for custom user CSS\n",
       "\n",
       "mainly to be overridden in profile/static/custom/custom.css\n",
       "\n",
       "This will always be an empty file in IPython\n",
       "*/\n",
       "<style>\n",
       "    @import url(http://fonts.googleapis.com/css?family=Roboto:400,300,300italic,400italic,700,700italic);\n",
       "\n",
       "    div.cell{\n",
       "        font-family:'roboto','helvetica','sans';\n",
       "        color:#444;\n",
       "        width:800px;\n",
       "        margin-left:16% !important;\n",
       "        margin-right:auto;\n",
       "    }\n",
       "\n",
       "    div.text_cell_render{\n",
       "        font-family: 'roboto','helvetica','sans';\n",
       "        line-height: 145%;\n",
       "        font-size: 120%;\n",
       "        color:#444;\n",
       "        width:800px;\n",
       "        margin-left:auto;\n",
       "        margin-right:auto;\n",
       "    }\n",
       "    .CodeMirror{\n",
       "            font-family: \"Menlo\", source-code-pro,Consolas, monospace;\n",
       "    }\n",
       "    .prompt{\n",
       "        display: None;\n",
       "    }    \n",
       "    .warning{\n",
       "        color: rgb( 240, 20, 20 )\n",
       "        }  \n",
       "</style>\n",
       "<script>\n",
       "    MathJax.Hub.Config({\n",
       "                        TeX: {\n",
       "                           extensions: [\"AMSmath.js\"]\n",
       "                           },\n",
       "                tex2jax: {\n",
       "                    inlineMath: [ ['$','$'], [\"\\\\(\",\"\\\\)\"] ],\n",
       "                    displayMath: [ ['$$','$$'], [\"\\\\[\",\"\\\\]\"] ]\n",
       "                },\n",
       "                displayAlign: 'center', // Change this to 'center' to center equations.\n",
       "                \"HTML-CSS\": {\n",
       "                    styles: {'.MathJax_Display': {\"margin\": 4}}\n",
       "                }\n",
       "        });\n",
       "</script>"
      ],
      "text/plain": [
       "<IPython.core.display.HTML at 0x1065c8128>"
      ]
     },
     "execution_count": 2,
     "metadata": {},
     "output_type": "execute_result"
    }
   ],
   "source": [
    "from IPython.core.display import HTML\n",
    "def css_styling():\n",
    "    styles = open(\"styles/custom.css\", \"r\").read()\n",
    "    return HTML(styles)\n",
    "css_styling()"
   ]
  },
  {
   "cell_type": "markdown",
   "id": "73c7c9f9",
   "metadata": {
    "id": "73c7c9f9"
   },
   "source": [
    "---"
   ]
  },
  {
   "cell_type": "markdown",
   "id": "b57b7dc3",
   "metadata": {
    "id": "b57b7dc3"
   },
   "source": [
    "<p><small><a rel=\"license\" href=\"http://creativecommons.org/licenses/by-sa/4.0/\"><img alt=\"Creative Commons License\" style=\"border-width:0\" src=\"https://i.creativecommons.org/l/by-sa/4.0/88x31.png\" /></a><br /><span xmlns:dct=\"http://purl.org/dc/terms/\" property=\"dct:title\">Python Programming for the Humanities</span> by <a xmlns:cc=\"http://creativecommons.org/ns#\" href=\"http://fbkarsdorp.github.io/python-course\" property=\"cc:attributionName\" rel=\"cc:attributionURL\">http://fbkarsdorp.github.io/python-course</a> is licensed under a <a rel=\"license\" href=\"http://creativecommons.org/licenses/by-sa/4.0/\">Creative Commons Attribution-ShareAlike 4.0 International License</a>. Based on a work at <a xmlns:dct=\"http://purl.org/dc/terms/\" href=\"https://github.com/fbkarsdorp/python-course\" rel=\"dct:source\">https://github.com/fbkarsdorp/python-course</a>.</small></p>"
   ]
  }
 ],
 "metadata": {
  "colab": {
   "provenance": []
  },
  "kernelspec": {
   "display_name": "Python 3 (ipykernel)",
   "language": "python",
   "name": "python3"
  },
  "language_info": {
   "codemirror_mode": {
    "name": "ipython",
    "version": 3
   },
   "file_extension": ".py",
   "mimetype": "text/x-python",
   "name": "python",
   "nbconvert_exporter": "python",
   "pygments_lexer": "ipython3",
   "version": "3.12.9"
  }
 },
 "nbformat": 4,
 "nbformat_minor": 5
}
